{
 "cells": [
  {
   "cell_type": "markdown",
   "metadata": {},
   "source": [
    "# Tutorial 4, Question 1: gradient descent learning"
   ]
  },
  {
   "cell_type": "code",
   "execution_count": 1,
   "metadata": {},
   "outputs": [],
   "source": [
    "import torch\n",
    "import numpy as np\n",
    "import matplotlib.pylab as plt"
   ]
  },
  {
   "cell_type": "code",
   "execution_count": 2,
   "metadata": {},
   "outputs": [],
   "source": [
    "lr = 0.05\n",
    "num_epochs = 5000"
   ]
  },
  {
   "cell_type": "code",
   "execution_count": 3,
   "metadata": {},
   "outputs": [
    {
     "name": "stdout",
     "output_type": "stream",
     "text": [
      "x: [[ 1.  3.]\n",
      " [-2. -2.]], y: [[0. 1.]\n",
      " [1. 0.]]\n"
     ]
    }
   ],
   "source": [
    "# training data\n",
    "X = torch.tensor(np.array([[1.0, 3.0], [-2.0, -2.0]]))\n",
    "Y = torch.tensor(np.array([[0.0, 1.0], [1.0, 0.0]]))\n",
    "\n",
    "print('x: %s, y: %s'%(X.numpy(), Y.numpy()))"
   ]
  },
  {
   "cell_type": "code",
   "execution_count": 4,
   "metadata": {},
   "outputs": [],
   "source": [
    "V_init = [[1.0, 1.0], [0, -2]]\n",
    "c_init = [-2.0, 3.0]\n",
    "W_init = [[1.0, 2.0],[-2.0, 0]]\n",
    "b_init = [3.0, -1.0]"
   ]
  },
  {
   "cell_type": "code",
   "execution_count": 5,
   "metadata": {},
   "outputs": [],
   "source": [
    "class Two_Layer_DNN():\n",
    "  def __init__(self):\n",
    "    self.V = torch.tensor(V_init, dtype=torch.double)\n",
    "    self.c = torch.tensor(c_init, dtype=torch.double)\n",
    "    self.W = torch.tensor(W_init, dtype=torch.double)\n",
    "    self.b = torch.tensor(b_init, dtype=torch.double)\n",
    "\n",
    "  def __call__(self, x):\n",
    "    z = torch.matmul(x, self.W) + self.b\n",
    "    h = torch.sigmoid(z)\n",
    "    u = torch.matmul(h, self.V) + self.c\n",
    "    y = torch.sigmoid(u)\n",
    "    return z, h, u, y"
   ]
  },
  {
   "cell_type": "code",
   "execution_count": 6,
   "metadata": {},
   "outputs": [],
   "source": [
    "def loss(targets, outputs):\n",
    "    return torch.mean(torch.sum(torch.square(targets - outputs), dim=1))"
   ]
  },
  {
   "cell_type": "code",
   "execution_count": 7,
   "metadata": {},
   "outputs": [],
   "source": [
    "def train(model, inputs, d, learning_rate):\n",
    "    z, h, u, y = model(inputs)\n",
    "    dy = y*(1-y)\n",
    "    grad_u = -(d - y)*dy\n",
    "    grad_V = torch.matmul(torch.transpose(h, 0, 1), grad_u)\n",
    "    grad_c = torch.sum(grad_u, axis=0)\n",
    "\n",
    "    dh = h*(1-h)\n",
    "    grad_z = torch.matmul(grad_u, torch.transpose(model.V, 0, 1))*dh\n",
    "    grad_W = torch.matmul(torch.transpose(inputs, 0, 1), grad_z)\n",
    "    grad_b = torch.sum(grad_z, axis=0)\n",
    "\n",
    "    model.W -= learning_rate*grad_W\n",
    "    model.b -= learning_rate*grad_b\n",
    "    model.V -= learning_rate*grad_V\n",
    "    model.c -= learning_rate*grad_c\n",
    "    \n",
    "    return dy, grad_u, dh, grad_z"
   ]
  },
  {
   "cell_type": "code",
   "execution_count": 8,
   "metadata": {},
   "outputs": [
    {
     "name": "stdout",
     "output_type": "stream",
     "text": [
      "W = [[ 1.  2.]\n",
      " [-2.  0.]], b = [ 3. -1.]\n",
      "V = [[ 1.  1.]\n",
      " [ 0. -2.]], c = [-2.  3.]\n"
     ]
    }
   ],
   "source": [
    "model = Two_Layer_DNN()\n",
    "\n",
    "print('W = {}, b = {}'.format(model.W.numpy(), model.b.numpy()))\n",
    "print('V = {}, c = {}'.format(model.V.numpy(), model.c.numpy()))"
   ]
  },
  {
   "cell_type": "code",
   "execution_count": 9,
   "metadata": {},
   "outputs": [
    {
     "name": "stdout",
     "output_type": "stream",
     "text": [
      "epoch: 1\n",
      "z: tensor([[-2.,  1.],\n",
      "        [ 5., -5.]], dtype=torch.float64)\n",
      "h: tensor([[0.1192, 0.7311],\n",
      "        [0.9933, 0.0067]], dtype=torch.float64)\n",
      "u: tensor([[-1.8808,  1.6571],\n",
      "        [-1.0067,  3.9799]], dtype=torch.float64)\n",
      "y: tensor([[0.1323, 0.8398],\n",
      "        [0.2676, 0.9817]], dtype=torch.float64)\n",
      "dy: tensor([[0.1148, 0.1345],\n",
      "        [0.1960, 0.0180]], dtype=torch.float64)\n",
      "grad_u: tensor([[ 0.0152, -0.0215],\n",
      "        [-0.1435,  0.0177]], dtype=torch.float64)\n",
      "dh: tensor([[0.1050, 0.1966],\n",
      "        [0.0066, 0.0066]], dtype=torch.float64)\n",
      "grad_z:tensor([[-0.0007,  0.0085],\n",
      "        [-0.0008, -0.0002]], dtype=torch.float64)\n",
      "cost: 0.7715845238082222\n",
      "W = [[ 9.99949679e-01  1.99955297e+00]\n",
      " [-1.99998360e+00 -1.29409093e-03]], b = [ 3.0000752  -1.00041178]\n",
      "V = [[ 1.00703881e+00  9.99250433e-01]\n",
      " [-5.07093853e-04 -1.99921852e+00]], c = [-1.99358199  3.0001932 ]\n",
      "epoch:0, error: 0.7715845238082222\n",
      "epoch:100, error: 0.611730256545099\n",
      "epoch:200, error: 0.5595027765634414\n",
      "epoch:300, error: 0.537942048778494\n",
      "epoch:400, error: 0.522652731692409\n",
      "epoch:500, error: 0.507535786973817\n",
      "epoch:600, error: 0.48736938678737984\n",
      "epoch:700, error: 0.4496510475351795\n",
      "epoch:800, error: 0.3518210618293709\n",
      "epoch:900, error: 0.18599085016132208\n",
      "epoch:1000, error: 0.11634005456176519\n",
      "epoch:1100, error: 0.09177024965085295\n",
      "epoch:1200, error: 0.0776473529377272\n",
      "epoch:1300, error: 0.06753959456811374\n",
      "epoch:1400, error: 0.059710813759958306\n",
      "epoch:1500, error: 0.053413010089512346\n",
      "epoch:1600, error: 0.048216832944589824\n",
      "epoch:1700, error: 0.04384615688810166\n",
      "epoch:1800, error: 0.040114394595269845\n",
      "epoch:1900, error: 0.03689059264333367\n",
      "epoch:2000, error: 0.03407951419994686\n",
      "epoch:2100, error: 0.03160963461019286\n",
      "epoch:2200, error: 0.0294257305644712\n",
      "epoch:2300, error: 0.027484166235700803\n",
      "epoch:2400, error: 0.02574979809358454\n",
      "epoch:2500, error: 0.024193878405548645\n",
      "epoch:2600, error: 0.02279259246005577\n",
      "epoch:2700, error: 0.021526008906818064\n",
      "epoch:2800, error: 0.020377306496926005\n",
      "epoch:2900, error: 0.019332190548995265\n",
      "epoch:3000, error: 0.018378443006971643\n",
      "epoch:3100, error: 0.017505568953837824\n",
      "epoch:3200, error: 0.016704514467220204\n",
      "epoch:3300, error: 0.01596743843608234\n",
      "epoch:3400, error: 0.015287526018910376\n",
      "epoch:3500, error: 0.014658834799803733\n",
      "epoch:3600, error: 0.014076166998609274\n",
      "epoch:3700, error: 0.013534962693771265\n",
      "epoch:3800, error: 0.013031210159933495\n",
      "epoch:3900, error: 0.012561370257429802\n",
      "epoch:4000, error: 0.01212231243441977\n",
      "epoch:4100, error: 0.011711260377585127\n",
      "epoch:4200, error: 0.011325745715732657\n",
      "epoch:4300, error: 0.010963568470582233\n",
      "epoch:4400, error: 0.010622763179975122\n",
      "epoch:4500, error: 0.010301569804545907\n",
      "epoch:4600, error: 0.0099984086795799\n",
      "epoch:4700, error: 0.00971185889676347\n",
      "epoch:4800, error: 0.009440639601440034\n",
      "epoch:4900, error: 0.009183593774135405\n"
     ]
    }
   ],
   "source": [
    "err = []\n",
    "for epoch in range(num_epochs):\n",
    "    \n",
    "    z_, h_, u_, y_ = model(X)\n",
    "    cost_ = loss(Y, y_)\n",
    "    dy_, grad_u_, dh_, grad_z_ = train(model, X, Y, lr)\n",
    "    \n",
    "    err.append(cost_)\n",
    "\n",
    "    if epoch == 0:\n",
    "        print('epoch: {}'.format(epoch+1))\n",
    "        print('z: {}'.format(z_))\n",
    "        print('h: {}'.format(h_))\n",
    "        print('u: {}'.format(u_))\n",
    "        print('y: {}'.format(y_))\n",
    "        print('dy: {}'.format(dy_))\n",
    "        print('grad_u: {}'.format(grad_u_))\n",
    "        print('dh: {}'.format(dh_))\n",
    "        print('grad_z:{}'.format(grad_z_))\n",
    "        print('cost: {}'.format(cost_))\n",
    "        print('W = {}, b = {}'.format(model.W.numpy(), model.b.numpy()))\n",
    "        print('V = {}, c = {}'.format(model.V.numpy(), model.c.numpy()))\n",
    "                    \n",
    "    if not epoch%100:\n",
    "        print('epoch:{}, error: {}'.format(epoch,err[epoch]))"
   ]
  },
  {
   "cell_type": "code",
   "execution_count": 10,
   "metadata": {},
   "outputs": [
    {
     "name": "stdout",
     "output_type": "stream",
     "text": [
      "W = [[ 0.62506067  0.60035651]\n",
      " [-2.99956491 -1.99248792]], b = [ 2.71900048 -0.74481158]\n",
      "V = [[ 4.97482301 -3.46352222]\n",
      " [ 0.24645499 -2.37263065]], c = [-2.42727341  2.56119537]\n",
      "y: tensor([[0.0825, 0.9272],\n",
      "        [0.9406, 0.0474]], dtype=torch.float64)\n",
      "error: 0.00893967413388871\n"
     ]
    }
   ],
   "source": [
    "print('W = {}, b = {}'.format(model.W.numpy(), model.b.numpy()))\n",
    "print('V = {}, c = {}'.format(model.V.numpy(), model.c.numpy()))\n",
    "\n",
    "_, _, _, y_ = model(X)\n",
    "mse = loss(Y, y_)\n",
    "\n",
    "print('y: {}'.format(y_))\n",
    "print('error: {}'.format(mse))"
   ]
  },
  {
   "cell_type": "code",
   "execution_count": 11,
   "metadata": {},
   "outputs": [
    {
     "data": {
      "text/plain": [
       "Text(0.5, 1.0, 'GD learning')"
      ]
     },
     "execution_count": 11,
     "metadata": {},
     "output_type": "execute_result"
    },
    {
     "data": {
      "image/png": "[encoded data removed]",
      "text/plain": [
       "<Figure size 640x480 with 1 Axes>"
      ]
     },
     "metadata": {},
     "output_type": "display_data"
    }
   ],
   "source": [
    "# plot learning curves\n",
    "plt.figure(1)\n",
    "plt.plot(range(num_epochs), err)\n",
    "plt.xlabel('epochs')\n",
    "plt.ylabel('mean square error')\n",
    "plt.title('GD learning')"
   ]
  }
 ],
 "metadata": {
  "kernelspec": {
   "display_name": "Python 3 (ipykernel)",
   "language": "python",
   "name": "python3"
  },
  "language_info": {
   "codemirror_mode": {
    "name": "ipython",
    "version": 3
   },
   "file_extension": ".py",
   "mimetype": "text/x-python",
   "name": "python",
   "nbconvert_exporter": "python",
   "pygments_lexer": "ipython3",
   "version": "3.12.3"
  }
 },
 "nbformat": 4,
 "nbformat_minor": 4
}
