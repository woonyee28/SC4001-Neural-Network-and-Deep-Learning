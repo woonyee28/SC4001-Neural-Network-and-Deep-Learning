{
 "cells": [
  {
   "cell_type": "markdown",
   "metadata": {},
   "source": [
    "# Tutorial 2, Example 1b"
   ]
  },
  {
   "cell_type": "code",
   "execution_count": 1,
   "metadata": {},
   "outputs": [],
   "source": [
    "import torch\n",
    "import numpy as np\n",
    "import matplotlib.pylab as plt"
   ]
  },
  {
   "cell_type": "markdown",
   "metadata": {},
   "source": [
    "## Set the parameters"
   ]
  },
  {
   "cell_type": "code",
   "execution_count": 2,
   "metadata": {},
   "outputs": [],
   "source": [
    "no_epochs = 200\n",
    "lr = 0.01\n",
    "\n",
    "SEED = 10\n",
    "np.random.seed(SEED)"
   ]
  },
  {
   "cell_type": "markdown",
   "metadata": {},
   "source": [
    "## Read training data and Initialize weights and biases"
   ]
  },
  {
   "cell_type": "code",
   "execution_count": 3,
   "metadata": {},
   "outputs": [],
   "source": [
    "# generate training data\n",
    "X = np.array([[0.09, -0.44, -0.15],\n",
    "              [0.69, -0.99, -0.76],\n",
    "              [0.34, 0.65, -0.73],\n",
    "              [0.15, 0.78, -0.58],\n",
    "              [-0.63, -0.78, -0.56],\n",
    "              [0.96, 0.62, -0.66],\n",
    "              [0.63, -0.45, -0.14],\n",
    "              [0.88, 0.64, -0.33]])\n",
    "Y = np.array([-2.57, -2.97, 0.96, 1.04, -3.21, 1.05, -2.39, 0.66]).reshape(8,1)\n",
    "\n",
    "# initialize weights and biases\n",
    "w = np.array([0.77, 0.02, 0.63]).reshape(3,1)\n",
    "b = 0.0"
   ]
  },
  {
   "cell_type": "code",
   "execution_count": 4,
   "metadata": {},
   "outputs": [],
   "source": [
    "# class for a linear neuron\n",
    "class Linear():\n",
    "  def __init__(self):\n",
    "    self.w = torch.tensor(w, dtype=torch.double)\n",
    "    self.b = torch.tensor(b, dtype=torch.double)\n",
    "\n",
    "  def __call__(self, x):\n",
    "    return torch.matmul(torch.tensor(x) ,self.w) + self.b"
   ]
  },
  {
   "cell_type": "code",
   "execution_count": 5,
   "metadata": {},
   "outputs": [],
   "source": [
    "# squared error as the loss function\n",
    "def loss(predicted_y, target_y):\n",
    "  return torch.mean(torch.square(predicted_y - torch.tensor(target_y)))"
   ]
  },
  {
   "cell_type": "code",
   "execution_count": 6,
   "metadata": {},
   "outputs": [],
   "source": [
    "def train(model, x, d, learning_rate):\n",
    "    y = model(x)\n",
    "    grad_w = -torch.matmul(torch.transpose(torch.tensor(x), 0, 1), (torch.tensor(d) - y))\n",
    "    grad_b = -torch.sum((torch.tensor(d) - y))\n",
    "\n",
    "    model.w -= learning_rate * grad_w\n",
    "    model.b -= learning_rate * grad_b"
   ]
  },
  {
   "cell_type": "code",
   "execution_count": 7,
   "metadata": {},
   "outputs": [
    {
     "name": "stdout",
     "output_type": "stream",
     "text": [
      "w: [[0.77]\n",
      " [0.02]\n",
      " [0.63]], b: 0.0\n"
     ]
    }
   ],
   "source": [
    "# create a linear neuron\n",
    "model = Linear()\n",
    "print('w: {}, b: {}'.format(model.w.numpy(), model.b.numpy()))"
   ]
  },
  {
   "cell_type": "markdown",
   "metadata": {},
   "source": [
    "## Training begins "
   ]
  },
  {
   "cell_type": "code",
   "execution_count": 8,
   "metadata": {},
   "outputs": [
    {
     "name": "stdout",
     "output_type": "stream",
     "text": [
      "epoch: 1\n",
      "y: tensor([[-0.0340],\n",
      "        [ 0.0327],\n",
      "        [-0.1851],\n",
      "        [-0.2343],\n",
      "        [-0.8535],\n",
      "        [ 0.3358],\n",
      "        [ 0.3879],\n",
      "        [ 0.4825]], dtype=torch.float64)\n",
      "mse: 4.0242507925\n",
      "w: [[0.75856726]\n",
      " [0.11471311]\n",
      " [0.65266034]], b: -0.07362\n",
      "epoch: 2\n",
      "y: tensor([[-0.1537],\n",
      "        [-0.1598],\n",
      "        [-0.2176],\n",
      "        [-0.2489],\n",
      "        [-1.0065],\n",
      "        [ 0.2950],\n",
      "        [ 0.2613],\n",
      "        [ 0.4520]], dtype=torch.float64)\n",
      "mse: 3.660220398173507\n",
      "w: [[0.74919747]\n",
      " [0.20600435]\n",
      " [0.67195206]], b: -0.14013723642499998\n",
      "epoch: 10, mse: 1.8818245263383104\n",
      "epoch: 20, mse: 0.9495712683282156\n",
      "epoch: 30, mse: 0.5425509594027775\n",
      "epoch: 40, mse: 0.35110968525051284\n",
      "epoch: 50, mse: 0.2547767712900638\n",
      "epoch: 60, mse: 0.20190259259073734\n",
      "epoch: 70, mse: 0.16968403979613988\n",
      "epoch: 80, mse: 0.14785264369737552\n",
      "epoch: 90, mse: 0.13166028481517764\n",
      "epoch: 100, mse: 0.11882155329065121\n",
      "epoch: 110, mse: 0.10817116721029714\n",
      "epoch: 120, mse: 0.09906906315175976\n",
      "epoch: 130, mse: 0.09113291057014221\n",
      "epoch: 140, mse: 0.0841149756069528\n",
      "epoch: 150, mse: 0.07784333316119174\n",
      "epoch: 160, mse: 0.0721922929204197\n",
      "epoch: 170, mse: 0.06706647880146968\n",
      "epoch: 180, mse: 0.06239157253591286\n",
      "epoch: 190, mse: 0.05810850950190985\n",
      "epoch: 200, mse: 0.05416959763073271\n"
     ]
    }
   ],
   "source": [
    "# Collect the history of W-values and b-values to plot later\n",
    "mse = []\n",
    "for epoch in range(no_epochs):\n",
    "    \n",
    "    y_ = model(X)\n",
    "    loss_ = loss(y_, Y)\n",
    "  \n",
    "    train(model, X, Y, learning_rate=lr)\n",
    "\n",
    "    mse.append(loss_)\n",
    "  \n",
    "    if epoch < 2:\n",
    "        print('epoch: {}'.format(epoch+1))\n",
    "        print('y: {}'.format(y_))\n",
    "        print('mse: {}'.format(loss_))\n",
    "        print('w: %s, b: %s'%(model.w.numpy(), model.b.numpy()))\n",
    "\n",
    "    if epoch%10 == 9:\n",
    "        print('epoch: {}, mse: {}'.format(epoch+1, loss_))"
   ]
  },
  {
   "cell_type": "markdown",
   "metadata": {},
   "source": [
    "## Print final weights, biases and error"
   ]
  },
  {
   "cell_type": "code",
   "execution_count": 9,
   "metadata": {},
   "outputs": [
    {
     "name": "stdout",
     "output_type": "stream",
     "text": [
      "w: [[ 0.36834519]\n",
      " [ 2.56679646]\n",
      " [-0.20822191]], b: -1.1642720630787955\n",
      "mse: 0.0541696\n"
     ]
    }
   ],
   "source": [
    "print('w: {}, b: {}'.format(model.w.numpy(), model.b.numpy()))\n",
    "print('mse: %g'%mse[-1])"
   ]
  },
  {
   "cell_type": "markdown",
   "metadata": {},
   "source": [
    "## Plot learning curves"
   ]
  },
  {
   "cell_type": "code",
   "execution_count": 10,
   "metadata": {},
   "outputs": [
    {
     "data": {
      "text/plain": [
       "Text(0, 0.5, 'mean square error')"
      ]
     },
     "execution_count": 10,
     "metadata": {},
     "output_type": "execute_result"
    },
    {
     "data": {
      "image/png": "[encoded data removed]",
      "text/plain": [
       "<Figure size 640x480 with 1 Axes>"
      ]
     },
     "metadata": {},
     "output_type": "display_data"
    }
   ],
   "source": [
    "# plot learning curve\n",
    "plt.figure(1)\n",
    "plt.plot(range(no_epochs), mse)\n",
    "plt.xlabel('epochs')\n",
    "plt.ylabel('mean square error')"
   ]
  },
  {
   "cell_type": "code",
   "execution_count": 11,
   "metadata": {},
   "outputs": [
    {
     "name": "stdout",
     "output_type": "stream",
     "text": [
      "x: [ 0.09 -0.44 -0.15], d: -2.57, y: -2.22928\n",
      "x: [ 0.69 -0.99 -0.76], d: -2.97, y: -3.29299\n",
      "x: [ 0.34  0.65 -0.73], d: 0.96, y: 0.781385\n",
      "x: [ 0.15  0.78 -0.58], d: 1.04, y: 1.01385\n",
      "x: [-0.63 -0.78 -0.56], d: -3.21, y: -3.28183\n",
      "x: [ 0.96  0.62 -0.66], d: 1.05, y: 0.91818\n",
      "x: [ 0.63 -0.45 -0.14], d: -2.39, y: -2.05812\n",
      "x: [ 0.88  0.64 -0.33], d: 0.66, y: 0.871335\n"
     ]
    },
    {
     "name": "stderr",
     "output_type": "stream",
     "text": [
      "C:\\Users\\snorl\\AppData\\Local\\Temp\\ipykernel_4184\\1553503503.py:4: DeprecationWarning: Conversion of an array with ndim > 0 to a scalar is deprecated, and will error in future. Ensure you extract a single element from your array before performing this operation. (Deprecated NumPy 1.25.)\n",
      "  print('x: %s, d: %g, y: %g'%(X[p], Y[p], y_))\n"
     ]
    }
   ],
   "source": [
    "# print predictions\n",
    "for p in np.arange(len(X)):\n",
    "    y_ = model(X[[p]])\n",
    "    print('x: %s, d: %g, y: %g'%(X[p], Y[p], y_))"
   ]
  },
  {
   "cell_type": "markdown",
   "metadata": {},
   "source": [
    "## Practice - Model Construction"
   ]
  },
  {
   "cell_type": "code",
   "execution_count": 5,
   "metadata": {},
   "outputs": [
    {
     "name": "stdout",
     "output_type": "stream",
     "text": [
      "w: [[0.77]\n",
      " [0.02]\n",
      " [0.63]], b: 0.0\n"
     ]
    }
   ],
   "source": [
    "import torch \n",
    "import numpy as np\n",
    "import matplotlib.pyplot as plt\n",
    "\n",
    "no_epochs = 200\n",
    "lr = 0.01\n",
    "SEED = 10\n",
    "np.random.seed(SEED)\n",
    "\n",
    "X = np.array([[0.09, -0.44, -0.15],\n",
    "              [0.69, -0.99, -0.76],\n",
    "              [0.34, 0.65, -0.73],\n",
    "              [0.15, 0.78, -0.58],\n",
    "              [-0.63, -0.78, -0.56],\n",
    "              [0.96, 0.62, -0.66],\n",
    "              [0.63, -0.45, -0.14],\n",
    "              [0.88, 0.64, -0.33]])\n",
    "Y = np.array([-2.57, -2.97, 0.96, 1.04, -3.21, 1.05, -2.39, 0.66]).reshape(8,1)\n",
    "w = np.array([0.77, 0.02, 0.63]).reshape(3,1)\n",
    "b = 0.0\n",
    "\n",
    "class Linear():\n",
    "    def __init__(self):\n",
    "        self.w = torch.tensor(w, dtype=torch.double)\n",
    "        self.b = torch.tensor(b, dtype=torch.double)\n",
    "    def __call__(self, x):\n",
    "        return torch.matmul(torch.tensor(x), self.w) + self.b\n",
    "\n",
    "def loss(pred_y, actual_y):\n",
    "    return torch.mean(torch.square(pred_y - torch.tensor(actual_y)))\n",
    "\n",
    "def train(model, X, Y, lr):\n",
    "    pred_y = model(X)\n",
    "    grad_w = - torch.matmul(torch.transpose(torch.tensor(X), 0, 1), (torch.tensor(Y) - pred_y))\n",
    "    grad_b = - torch.sum(torch.tensor(Y) - pred_y)\n",
    "    model.w -= lr * grad_w\n",
    "    model.b -= lr* grad_b\n",
    "\n",
    "model = Linear()\n",
    "print('w: {}, b: {}'.format(model.w.numpy(), model.b.numpy()))"
   ]
  },
  {
   "cell_type": "code",
   "execution_count": 6,
   "metadata": {},
   "outputs": [
    {
     "name": "stdout",
     "output_type": "stream",
     "text": [
      "w: [[ 0.36834519]\n",
      " [ 2.56679646]\n",
      " [-0.20822191]], b: -1.1642720630787955\n",
      "mse: 0.0541696\n"
     ]
    }
   ],
   "source": [
    "mse = []\n",
    "\n",
    "for i in range(no_epochs):\n",
    "    pred_y = model(X)\n",
    "    mse.append(loss(pred_y, Y))\n",
    "\n",
    "    train(model, X, Y, lr)\n",
    "\n",
    "print('w: {}, b: {}'.format(model.w.numpy(), model.b.numpy()))\n",
    "print('mse: %g'%mse[-1])"
   ]
  },
  {
   "cell_type": "code",
   "execution_count": 7,
   "metadata": {},
   "outputs": [
    {
     "data": {
      "text/plain": [
       "Text(0, 0.5, 'mean square error')"
      ]
     },
     "execution_count": 7,
     "metadata": {},
     "output_type": "execute_result"
    },
    {
     "data": {
      "image/png": "[encoded data removed]",
      "text/plain": [
       "<Figure size 640x480 with 1 Axes>"
      ]
     },
     "metadata": {},
     "output_type": "display_data"
    }
   ],
   "source": [
    "plt.figure(1)\n",
    "plt.plot(range(no_epochs), mse)\n",
    "plt.xlabel('epochs')\n",
    "plt.ylabel('mean square error')"
   ]
  },
  {
   "cell_type": "code",
   "execution_count": 8,
   "metadata": {},
   "outputs": [
    {
     "name": "stdout",
     "output_type": "stream",
     "text": [
      "x: [ 0.09 -0.44 -0.15], d: -2.57, y: -2.22928\n",
      "x: [ 0.69 -0.99 -0.76], d: -2.97, y: -3.29299\n",
      "x: [ 0.34  0.65 -0.73], d: 0.96, y: 0.781385\n",
      "x: [ 0.15  0.78 -0.58], d: 1.04, y: 1.01385\n",
      "x: [-0.63 -0.78 -0.56], d: -3.21, y: -3.28183\n",
      "x: [ 0.96  0.62 -0.66], d: 1.05, y: 0.91818\n",
      "x: [ 0.63 -0.45 -0.14], d: -2.39, y: -2.05812\n",
      "x: [ 0.88  0.64 -0.33], d: 0.66, y: 0.871335\n"
     ]
    },
    {
     "name": "stderr",
     "output_type": "stream",
     "text": [
      "C:\\Users\\snorl\\AppData\\Local\\Temp\\ipykernel_15432\\3237935187.py:3: DeprecationWarning: Conversion of an array with ndim > 0 to a scalar is deprecated, and will error in future. Ensure you extract a single element from your array before performing this operation. (Deprecated NumPy 1.25.)\n",
      "  print('x: %s, d: %g, y: %g'%(X[p], Y[p], y_))\n"
     ]
    }
   ],
   "source": [
    "for p in np.arange(len(X)):\n",
    "    y_ = model(X[[p]])\n",
    "    print('x: %s, d: %g, y: %g'%(X[p], Y[p], y_))"
   ]
  }
 ],
 "metadata": {
  "kernelspec": {
   "display_name": "venv",
   "language": "python",
   "name": "python3"
  },
  "language_info": {
   "codemirror_mode": {
    "name": "ipython",
    "version": 3
   },
   "file_extension": ".py",
   "mimetype": "text/x-python",
   "name": "python",
   "nbconvert_exporter": "python",
   "pygments_lexer": "ipython3",
   "version": "3.12.0"
  }
 },
 "nbformat": 4,
 "nbformat_minor": 4
}
