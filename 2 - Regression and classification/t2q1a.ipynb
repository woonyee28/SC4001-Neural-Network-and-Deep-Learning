{
 "cells": [
  {
   "cell_type": "markdown",
   "metadata": {},
   "source": [
    "# Tutorial 2, Example 1a"
   ]
  },
  {
   "cell_type": "code",
   "execution_count": 1,
   "metadata": {},
   "outputs": [],
   "source": [
    "import torch\n",
    "import numpy as np\n",
    "import matplotlib.pylab as plt"
   ]
  },
  {
   "cell_type": "code",
   "execution_count": 2,
   "metadata": {},
   "outputs": [],
   "source": [
    "no_epochs = 200\n",
    "lr = 0.01\n",
    "\n",
    "SEED = 10\n",
    "np.random.seed(SEED)"
   ]
  },
  {
   "cell_type": "code",
   "execution_count": 3,
   "metadata": {},
   "outputs": [],
   "source": [
    "# Given training data\n",
    "X = np.array([[0.09, -0.44, -0.15],\n",
    "              [0.69, -0.99, -0.76],\n",
    "              [0.34, 0.65, -0.73],\n",
    "              [0.15, 0.78, -0.58],\n",
    "              [-0.63, -0.78, -0.56],\n",
    "              [0.96, 0.62, -0.66],\n",
    "              [0.63, -0.45, -0.14],\n",
    "              [0.88, 0.64, -0.33]])\n",
    "Y = np.array([-2.57, -2.97, 0.96, 1.04, -3.21, 1.05, -2.39, 0.66])\n",
    "\n",
    "# initialize the weights and biases\n",
    "w = np.array([0.77, 0.02, 0.63])\n",
    "b = 0.0"
   ]
  },
  {
   "cell_type": "code",
   "execution_count": 4,
   "metadata": {},
   "outputs": [],
   "source": [
    "# class for a linear neuron\n",
    "class Linear():\n",
    "  def __init__(self):\n",
    "    self.w = torch.tensor(w, dtype=torch.double)\n",
    "    self.b = torch.tensor(b, dtype=torch.double)\n",
    "\n",
    "  def __call__(self, x):\n",
    "    return torch.inner(torch.tensor(x) ,self.w) + self.b"
   ]
  },
  {
   "cell_type": "code",
   "execution_count": 5,
   "metadata": {},
   "outputs": [],
   "source": [
    "# squared error as the loss function\n",
    "def loss(predicted_y, target_y):\n",
    "  return torch.square(predicted_y - torch.tensor(target_y))"
   ]
  },
  {
   "cell_type": "code",
   "execution_count": 6,
   "metadata": {},
   "outputs": [],
   "source": [
    "# funtion executing a training step\n",
    "def train_step(model, x, d, learning_rate):\n",
    "    y = model(x)\n",
    "    loss_ = loss(y, d)\n",
    "    grad_w = -(d - y)*x\n",
    "    grad_b = -(d - y)\n",
    "    model.w -= learning_rate * grad_w\n",
    "    model.b -= learning_rate * grad_b"
   ]
  },
  {
   "cell_type": "code",
   "execution_count": 7,
   "metadata": {},
   "outputs": [
    {
     "name": "stdout",
     "output_type": "stream",
     "text": [
      "w: [0.77 0.02 0.63], b: 0.0\n"
     ]
    }
   ],
   "source": [
    "# create a linear neuron\n",
    "model = Linear()\n",
    "print('w: {}, b: {}'.format(model.w.numpy(), model.b.numpy()))"
   ]
  },
  {
   "cell_type": "markdown",
   "metadata": {},
   "source": [
    "## SGD Training Starts"
   ]
  },
  {
   "cell_type": "code",
   "execution_count": 8,
   "metadata": {},
   "outputs": [
    {
     "name": "stderr",
     "output_type": "stream",
     "text": [
      "C:\\Users\\snorl\\AppData\\Local\\Temp\\ipykernel_33740\\3950607768.py:5: DeprecationWarning: __array_wrap__ must accept context and return_scalar arguments (positionally) in the future. (Deprecated NumPy 2.0)\n",
      "  grad_w = -(d - y)*x\n"
     ]
    },
    {
     "name": "stdout",
     "output_type": "stream",
     "text": [
      "epoch: 1\n",
      "p: 1\n",
      "x:[ 0.34  0.65 -0.73], d:0.96\n",
      "y: -0.18509999999999993\n",
      "se: 1.3112540099999994\n",
      "w: [0.77389334 0.02744315 0.62164077], b: 0.011450999999999998\n",
      "epoch: 1\n",
      "p: 2\n",
      "x:[ 0.15  0.78 -0.58], d:1.04\n",
      "y: -0.21161098859999997\n",
      "se: 1.5665300667842692\n",
      "w: [0.77577076 0.03720572 0.61438143], b: 0.023967109885999996\n",
      "epoch: 1\n",
      "p: 3\n",
      "x:[ 0.63 -0.45 -0.14], d:-2.39\n",
      "y: 0.40994671472298416\n",
      "se: 7.839701605288032\n",
      "w: [0.75813109 0.04980548 0.61830135], b: -0.004032357261229847\n",
      "epoch: 1\n",
      "p: 4\n",
      "x:[ 0.88  0.64 -0.33], d:0.66\n",
      "y: 0.4909590624007698\n",
      "se: 0.028574838584426845\n",
      "w: [0.75961865 0.05088734 0.61774352], b: -0.0023419478852375448\n",
      "epoch: 1\n",
      "p: 5\n",
      "x:[ 0.09 -0.44 -0.15], d:-2.57\n",
      "y: -0.04902822534065021\n",
      "se: 6.35529868862911\n",
      "w: [0.75734978 0.06197961 0.62152497], b: -0.02755166563183104\n",
      "epoch: 1\n",
      "p: 6\n",
      "x:[-0.63 -0.78 -0.56], d:-3.21\n",
      "y: -0.9010801099529876\n",
      "se: 5.331111058654709\n",
      "w: [0.77189597 0.07998919 0.63445493], b: -0.05064086453230116\n",
      "epoch: 1\n",
      "p: 7\n",
      "x:[ 0.96  0.62 -0.66], d:1.05\n",
      "y: 0.32123231587957535\n",
      "se: 0.5311023374182471\n",
      "w: [0.77889214 0.08450755 0.62964506], b: -0.04335318769109692\n",
      "epoch: 1\n",
      "p: 8\n",
      "x:[ 0.69 -0.99 -0.76], d:-2.97\n",
      "y: -0.0681103268861099\n",
      "se: 8.42096367492504\n",
      "w: [0.7588691  0.11323626 0.65169942], b: -0.07237208442223582\n",
      "epoch:  10, mse: 1.8678\n",
      "epoch:  20, mse: 0.9499\n",
      "epoch:  30, mse: 0.5453\n",
      "epoch:  40, mse: 0.3542\n",
      "epoch:  50, mse: 0.2575\n",
      "epoch:  60, mse: 0.2042\n",
      "epoch:  70, mse: 0.1715\n",
      "epoch:  80, mse: 0.1495\n",
      "epoch:  90, mse: 0.1330\n",
      "epoch: 100, mse: 0.1201\n",
      "epoch: 110, mse: 0.1093\n",
      "epoch: 120, mse: 0.1001\n",
      "epoch: 130, mse: 0.0920\n",
      "epoch: 140, mse: 0.0849\n",
      "epoch: 150, mse: 0.0786\n",
      "epoch: 160, mse: 0.0729\n",
      "epoch: 170, mse: 0.0676\n",
      "epoch: 180, mse: 0.0629\n",
      "epoch: 190, mse: 0.0586\n",
      "epoch: 200, mse: 0.0545\n"
     ]
    }
   ],
   "source": [
    "# keep an index for training\n",
    "idx = np.arange(len(X))\n",
    "\n",
    "err = []\n",
    "\n",
    "# training via epochs\n",
    "for epoch in range(no_epochs):\n",
    "  np.random.shuffle(idx)\n",
    "  X, Y = X[idx], Y[idx]\n",
    "    \n",
    "  err_ = []\n",
    "\n",
    "  # go though individual patterns via each epoch\n",
    "  for p in np.arange(len(X)):\n",
    "    \n",
    "    y_ = model(X[p])\n",
    "    loss_ = loss(y_, Y[p])\n",
    "    err_.append(loss_)\n",
    "    \n",
    "    train_step(model, X[p], Y[p], learning_rate=lr)\n",
    "    \n",
    "    if epoch == 0:\n",
    "      print('epoch: {}'.format(epoch+1))\n",
    "      print('p: {}'.format(p+1))\n",
    "      print('x:{}, d:{}'.format(X[p], Y[p]))\n",
    "      print('y: {}'.format(y_))\n",
    "      print('se: {}'.format(loss_))\n",
    "      print('w: {}, b: {}'.format(model.w.numpy(), model.b.numpy()))\n",
    " \n",
    "  err.append(np.mean(err_))\n",
    "  if epoch%10 == 9:\n",
    "        print('epoch: %3d, mse: %1.4f'%(epoch+1, err[epoch]))"
   ]
  },
  {
   "cell_type": "code",
   "execution_count": 9,
   "metadata": {},
   "outputs": [
    {
     "name": "stdout",
     "output_type": "stream",
     "text": [
      "w: [ 0.36871063  2.56587648 -0.21289879], b: -1.1664272930402482\n",
      "mse: 0.0545477\n"
     ]
    }
   ],
   "source": [
    "print('w: {}, b: {}'.format(model.w.numpy(), model.b.numpy()))\n",
    "print('mse: %g'%err[-1])"
   ]
  },
  {
   "cell_type": "markdown",
   "metadata": {},
   "source": [
    "## Plot learning curves"
   ]
  },
  {
   "cell_type": "code",
   "execution_count": 10,
   "metadata": {},
   "outputs": [
    {
     "data": {
      "image/png": "[encoded data removed]",
      "text/plain": [
       "<Figure size 640x480 with 1 Axes>"
      ]
     },
     "metadata": {},
     "output_type": "display_data"
    }
   ],
   "source": [
    "# plot learning curve\n",
    "plt.figure(1)\n",
    "plt.plot(range(no_epochs), err)\n",
    "plt.xlabel('epochs')\n",
    "plt.ylabel('mean square error')\n",
    "plt.show()"
   ]
  },
  {
   "cell_type": "markdown",
   "metadata": {},
   "source": [
    "## Print predictions"
   ]
  },
  {
   "cell_type": "code",
   "execution_count": 11,
   "metadata": {},
   "outputs": [
    {
     "name": "stdout",
     "output_type": "stream",
     "text": [
      "x: [-0.63 -0.78 -0.56], d: -3.21, y: -3.28088\n",
      "x: [ 0.34  0.65 -0.73], d: 0.96, y: 0.78217\n",
      "x: [ 0.96  0.62 -0.66], d: 1.05, y: 0.918892\n",
      "x: [ 0.69 -0.99 -0.76], d: -2.97, y: -3.29043\n",
      "x: [ 0.88  0.64 -0.33], d: 0.66, y: 0.870456\n",
      "x: [ 0.15  0.78 -0.58], d: 1.04, y: 1.01374\n",
      "x: [ 0.09 -0.44 -0.15], d: -2.57, y: -2.23029\n",
      "x: [ 0.63 -0.45 -0.14], d: -2.39, y: -2.05898\n"
     ]
    }
   ],
   "source": [
    "# print predictions\n",
    "for p in np.arange(len(X)):\n",
    "    y_ = model(X[[p]])\n",
    "    print('x: %s, d: %g, y: %g'%(X[p], Y[p], y_))\n"
   ]
  },
  {
   "cell_type": "markdown",
   "metadata": {},
   "source": [
    "## Practice - Model Construction"
   ]
  },
  {
   "cell_type": "code",
   "execution_count": 25,
   "metadata": {},
   "outputs": [
    {
     "name": "stdout",
     "output_type": "stream",
     "text": [
      "model.w: [0.77 0.02 0.63], model.b: 0.0\n"
     ]
    }
   ],
   "source": [
    "import torch \n",
    "import numpy as np\n",
    "import matplotlib.pylab as plt\n",
    "\n",
    "no_epochs = 200\n",
    "lr = 0.01\n",
    "SEED = 10\n",
    "np.random.seed(SEED)\n",
    "\n",
    "X = np.array([[0.09, -0.44, -0.15],\n",
    "              [0.69, -0.99, -0.76],\n",
    "              [0.34, 0.65, -0.73],\n",
    "              [0.15, 0.78, -0.58],\n",
    "              [-0.63, -0.78, -0.56],\n",
    "              [0.96, 0.62, -0.66],\n",
    "              [0.63, -0.45, -0.14],\n",
    "              [0.88, 0.64, -0.33]])\n",
    "Y = np.array([-2.57, -2.97, 0.96, 1.04, -3.21, 1.05, -2.39, 0.66])\n",
    "\n",
    "w = np.array([0.77, 0.02, 0.63])\n",
    "b = 0.0\n",
    "\n",
    "class Linear:\n",
    "    def __init__(self):\n",
    "        self.w = torch.tensor(w, dtype=torch.double)\n",
    "        self.b = torch.tensor(b, dtype=torch.double)\n",
    "    def __call__(self, x):\n",
    "        return torch.inner(self.w, torch.tensor(x)) + self.b\n",
    "\n",
    "def loss(predicted_y, actual_y):\n",
    "    return torch.square(predicted_y - torch.tensor(actual_y))\n",
    "\n",
    "def train_steps(model, x, actual_y, lr):\n",
    "    predicted_y = model(x)\n",
    "    _loss = loss(actual_y, predicted_y)\n",
    "    grad_w = - (actual_y - predicted_y) * x\n",
    "    grad_b = - (actual_y - predicted_y)\n",
    "    model.w -= grad_w * lr\n",
    "    model.b -= grad_b * lr\n",
    "\n",
    "model = Linear()\n",
    "print(\"model.w: {}, model.b: {}\".format(model.w.numpy(),model.b.numpy()))"
   ]
  },
  {
   "cell_type": "code",
   "execution_count": 26,
   "metadata": {},
   "outputs": [
    {
     "name": "stderr",
     "output_type": "stream",
     "text": [
      "C:\\Users\\snorl\\AppData\\Local\\Temp\\ipykernel_39312\\2286312757.py:31: UserWarning: To copy construct from a tensor, it is recommended to use sourceTensor.clone().detach() or sourceTensor.clone().detach().requires_grad_(True), rather than torch.tensor(sourceTensor).\n",
      "  return torch.square(predicted_y - torch.tensor(actual_y))\n",
      "C:\\Users\\snorl\\AppData\\Local\\Temp\\ipykernel_39312\\2286312757.py:36: DeprecationWarning: __array_wrap__ must accept context and return_scalar arguments (positionally) in the future. (Deprecated NumPy 2.0)\n",
      "  grad_w = - (actual_y - predicted_y) * x\n"
     ]
    },
    {
     "name": "stdout",
     "output_type": "stream",
     "text": [
      "w: [ 0.36871063  2.56587648 -0.21289879], b: -1.1664272930402482\n",
      "mse: 0.0545477\n"
     ]
    }
   ],
   "source": [
    "idx = np.arange(len(X))\n",
    "err = []\n",
    "\n",
    "for i in range(no_epochs):\n",
    "    np.random.shuffle(idx)\n",
    "    X, Y = X[idx], Y[idx]\n",
    "\n",
    "    _err = []\n",
    "    \n",
    "    for j in np.arange(len(X)):\n",
    "        pred_y = model(X[j])\n",
    "        _loss = loss(pred_y, Y[j])\n",
    "        _err.append(_loss)\n",
    "        \n",
    "        train_steps(model,X[j], Y[j], lr)\n",
    "\n",
    "    err.append(np.mean(_err))\n",
    "\n",
    "print('w: {}, b: {}'.format(model.w.numpy(), model.b.numpy()))\n",
    "print('mse: %g'%err[-1])"
   ]
  },
  {
   "cell_type": "code",
   "execution_count": 28,
   "metadata": {},
   "outputs": [
    {
     "data": {
      "text/plain": [
       "[]"
      ]
     },
     "execution_count": 28,
     "metadata": {},
     "output_type": "execute_result"
    },
    {
     "data": {
      "image/png": "[encoded data removed]",
      "text/plain": [
       "<Figure size 640x480 with 1 Axes>"
      ]
     },
     "metadata": {},
     "output_type": "display_data"
    }
   ],
   "source": [
    "plt.figure(1)\n",
    "plt.plot(np.arange(no_epochs), err)\n",
    "plt.xlabel(\"No of Epochs\")\n",
    "plt.ylabel(\"Error\")\n",
    "plt.plot()"
   ]
  },
  {
   "cell_type": "code",
   "execution_count": 29,
   "metadata": {},
   "outputs": [
    {
     "name": "stdout",
     "output_type": "stream",
     "text": [
      "x: [-0.63 -0.78 -0.56], y_pred: -3.28088, y_actual: -3.21\n",
      "x: [ 0.34  0.65 -0.73], y_pred: 0.78217, y_actual: 0.96\n",
      "x: [ 0.96  0.62 -0.66], y_pred: 0.918892, y_actual: 1.05\n",
      "x: [ 0.69 -0.99 -0.76], y_pred: -3.29043, y_actual: -2.97\n",
      "x: [ 0.88  0.64 -0.33], y_pred: 0.870456, y_actual: 0.66\n",
      "x: [ 0.15  0.78 -0.58], y_pred: 1.01374, y_actual: 1.04\n",
      "x: [ 0.09 -0.44 -0.15], y_pred: -2.23029, y_actual: -2.57\n",
      "x: [ 0.63 -0.45 -0.14], y_pred: -2.05898, y_actual: -2.39\n"
     ]
    }
   ],
   "source": [
    "for p in np.arange(len(X)):\n",
    "    pred_y = model(X[p])\n",
    "    print(\"x: %s, y_pred: %g, y_actual: %g\"%(X[p], pred_y, Y[p]))"
   ]
  }
 ],
 "metadata": {
  "kernelspec": {
   "display_name": "venv",
   "language": "python",
   "name": "python3"
  },
  "language_info": {
   "codemirror_mode": {
    "name": "ipython",
    "version": 3
   },
   "file_extension": ".py",
   "mimetype": "text/x-python",
   "name": "python",
   "nbconvert_exporter": "python",
   "pygments_lexer": "ipython3",
   "version": "3.12.0"
  }
 },
 "nbformat": 4,
 "nbformat_minor": 4
}
