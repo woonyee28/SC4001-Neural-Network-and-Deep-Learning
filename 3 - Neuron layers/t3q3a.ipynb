{
 "cells": [
  {
   "cell_type": "markdown",
   "metadata": {},
   "source": [
    "# Tutorial 3, Question 2a"
   ]
  },
  {
   "cell_type": "code",
   "execution_count": 1,
   "metadata": {},
   "outputs": [],
   "source": [
    "import torch\n",
    "from torch import nn\n",
    "from torch.utils.data import DataLoader\n",
    "from torch.utils.data import Dataset\n",
    "\n",
    "import numpy as np\n",
    "import matplotlib.pylab as plt\n",
    "\n",
    "from sklearn import datasets\n",
    "from sklearn.model_selection import train_test_split"
   ]
  },
  {
   "cell_type": "markdown",
   "metadata": {},
   "source": [
    "## Set learning parameters"
   ]
  },
  {
   "cell_type": "code",
   "execution_count": 2,
   "metadata": {},
   "outputs": [],
   "source": [
    "no_epochs = 1000\n",
    "batch_size = 16\n",
    "lr = 0.1\n",
    "\n",
    "SEED = 100\n",
    "torch.manual_seed(SEED)\n",
    "np.random.seed(SEED)\n",
    "\n",
    "no_inputs = 4\n",
    "no_outputs = 3"
   ]
  },
  {
   "cell_type": "markdown",
   "metadata": {},
   "source": [
    "## Read input data"
   ]
  },
  {
   "cell_type": "code",
   "execution_count": 3,
   "metadata": {},
   "outputs": [
    {
     "name": "stdout",
     "output_type": "stream",
     "text": [
      "(90, 4)\n",
      "(60,)\n"
     ]
    }
   ],
   "source": [
    "iris = datasets.load_iris()\n",
    "iris.data -= np.mean(iris.data, axis=0)\n",
    "    \n",
    "x_train, x_test, y_train, y_test = train_test_split(iris.data, iris.target, test_size=0.4, random_state=2)\n",
    "\n",
    "print(np.shape(x_train))\n",
    "print(np.shape(y_test))"
   ]
  },
  {
   "cell_type": "code",
   "execution_count": 4,
   "metadata": {},
   "outputs": [],
   "source": [
    "# create a subclass of Dataset class\n",
    "class MyDataset(Dataset):\n",
    "  def __init__(self, X, y):\n",
    "    self.X =torch.tensor(X, dtype=torch.float)\n",
    "    self.y =torch.tensor(y)\n",
    "    \n",
    "  def __len__(self):\n",
    "    return len(self.y)\n",
    "\n",
    "  def __getitem__(self,idx):\n",
    "    return self.X[idx], self.y[idx]"
   ]
  },
  {
   "cell_type": "code",
   "execution_count": 5,
   "metadata": {},
   "outputs": [],
   "source": [
    "# create Dataset objectives\n",
    "train_data = MyDataset(x_train, y_train)\n",
    "test_data = MyDataset(x_test, y_test)\n",
    "\n",
    "# create dataloaders for minibatch learning\n",
    "train_dataloader = DataLoader(train_data, batch_size=batch_size, shuffle=True)\n",
    "test_dataloader = DataLoader(test_data, batch_size=batch_size, shuffle=True)"
   ]
  },
  {
   "cell_type": "markdown",
   "metadata": {},
   "source": [
    "## Build the model"
   ]
  },
  {
   "cell_type": "code",
   "execution_count": 6,
   "metadata": {},
   "outputs": [],
   "source": [
    "# create a SoftmaxLayer as a subclass of nn.Module\n",
    "class SoftmaxLayer(nn.Module):\n",
    "  def __init__(self, no_inputs, no_outputs):\n",
    "        super().__init__()\n",
    "        self.softmax_layer = nn.Sequential(\n",
    "            nn.Linear(no_inputs, no_outputs),\n",
    "            nn.Softmax(dim=1)\n",
    "        )\n",
    "\n",
    "  def forward(self, x):\n",
    "        logits = self.softmax_layer(x)\n",
    "        return logits"
   ]
  },
  {
   "cell_type": "markdown",
   "metadata": {},
   "source": [
    "## Train the model"
   ]
  },
  {
   "cell_type": "code",
   "execution_count": 7,
   "metadata": {},
   "outputs": [
    {
     "name": "stdout",
     "output_type": "stream",
     "text": [
      "SoftmaxLayer(\n",
      "  (softmax_layer): Sequential(\n",
      "    (0): Linear(in_features=4, out_features=3, bias=True)\n",
      "    (1): Softmax(dim=1)\n",
      "  )\n",
      ")\n",
      "\n",
      "Layer: softmax_layer.0.weight | Size: torch.Size([3, 4]) | Values : Parameter containing:\n",
      "tensor([[-0.3883,  0.3158, -0.2374, -0.0161],\n",
      "        [ 0.1765,  0.2539, -0.2373, -0.4572],\n",
      "        [-0.2920, -0.3820, -0.3783,  0.2356]], requires_grad=True) \n",
      "\n",
      "Layer: softmax_layer.0.bias | Size: torch.Size([3]) | Values : Parameter containing:\n",
      "tensor([ 0.2118,  0.2876, -0.0817], requires_grad=True) \n",
      "\n"
     ]
    }
   ],
   "source": [
    "# create a model objective\n",
    "model = SoftmaxLayer(no_inputs, no_outputs)\n",
    "\n",
    "# print the model structure\n",
    "print(f\"{model}\\n\")\n",
    "\n",
    "# print model parameters\n",
    "for name, param in model.named_parameters():\n",
    "    print(f\"Layer: {name} | Size: {param.size()} | Values : {param} \\n\")"
   ]
  },
  {
   "cell_type": "code",
   "execution_count": 8,
   "metadata": {},
   "outputs": [],
   "source": [
    "def train_loop(dataloader, model, loss_fn, optimizer):\n",
    "    size = len(dataloader.dataset)\n",
    "    num_batches = len(dataloader)\n",
    "    train_loss, correct = 0, 0\n",
    "    for batch, (X, y) in enumerate(dataloader):\n",
    "        # Compute prediction and loss\n",
    "        pred = model(X)\n",
    "        loss = loss_fn(pred, y)\n",
    "\n",
    "        # Backpropagation\n",
    "        optimizer.zero_grad()\n",
    "        loss.backward()\n",
    "        optimizer.step()\n",
    "    \n",
    "        train_loss += loss.item()\n",
    "        correct += (pred.argmax(1) == y).type(torch.float).sum().item()\n",
    "\n",
    "    train_loss /= size\n",
    "    correct /= size\n",
    "    return train_loss, correct\n",
    "    \n",
    "\n",
    "def test_loop(dataloader, model, loss_fn):\n",
    "    size = len(dataloader.dataset)\n",
    "    num_batches = len(dataloader)\n",
    "    test_loss, correct = 0, 0\n",
    "\n",
    "    with torch.no_grad():\n",
    "        for X, y in dataloader:\n",
    "            pred = model(X)\n",
    "            test_loss += loss_fn(pred, y).item()\n",
    "            correct += (pred.argmax(dim=1) == y).type(torch.float).sum().item()\n",
    "\n",
    "    test_loss /= size\n",
    "    correct /= size\n",
    " \n",
    "    return test_loss, correct\n",
    "    "
   ]
  },
  {
   "cell_type": "code",
   "execution_count": 9,
   "metadata": {},
   "outputs": [
    {
     "name": "stdout",
     "output_type": "stream",
     "text": [
      "Epoch 100, train_loss 0.590557 train_acc 0.966667, test_loss 0.592864, test_acc 0.966667\n",
      "Epoch 200, train_loss 0.584193 train_acc 0.966667, test_loss 0.589762, test_acc 0.950000\n",
      "Epoch 300, train_loss 0.581342 train_acc 0.966667, test_loss 0.591337, test_acc 0.950000\n",
      "Epoch 400, train_loss 0.580680 train_acc 0.966667, test_loss 0.592696, test_acc 0.950000\n",
      "Epoch 500, train_loss 0.579121 train_acc 0.966667, test_loss 0.595471, test_acc 0.950000\n",
      "Epoch 600, train_loss 0.578273 train_acc 0.966667, test_loss 0.596878, test_acc 0.950000\n",
      "Epoch 700, train_loss 0.577740 train_acc 0.966667, test_loss 0.598929, test_acc 0.950000\n",
      "Epoch 800, train_loss 0.577944 train_acc 0.988889, test_loss 0.600542, test_acc 0.950000\n",
      "Epoch 900, train_loss 0.577124 train_acc 0.988889, test_loss 0.602714, test_acc 0.933333\n",
      "Epoch 1000, train_loss 0.576563 train_acc 0.988889, test_loss 0.604667, test_acc 0.933333\n",
      "Done!\n"
     ]
    }
   ],
   "source": [
    "loss_fn = nn.CrossEntropyLoss(reduction='sum')\n",
    "optimizer = torch.optim.SGD(model.parameters(), lr=lr)\n",
    "\n",
    "train_loss_, train_acc_, test_loss_, test_acc_ = [], [], [], []\n",
    "\n",
    "for epoch in range(no_epochs):\n",
    "    train_loss, train_acc = train_loop(train_dataloader, model, loss_fn, optimizer)\n",
    "    test_loss, test_acc = test_loop(test_dataloader, model, loss_fn)\n",
    "    \n",
    "    train_loss_.append(train_loss), train_acc_.append(train_acc)\n",
    "    test_loss_.append(test_loss), test_acc_.append(test_acc)\n",
    "    \n",
    "    if epoch%100 == 99:\n",
    "        print(f\"Epoch {epoch+1}, train_loss {train_loss:>7f} train_acc {train_acc:>4f}, test_loss {test_loss:>7f}, test_acc {test_acc:>4f}\")\n",
    "print(\"Done!\")"
   ]
  },
  {
   "cell_type": "code",
   "execution_count": 10,
   "metadata": {},
   "outputs": [
    {
     "name": "stdout",
     "output_type": "stream",
     "text": [
      "weight = [[-1.2499496   3.4083934  -7.2358747  -3.3011615 ]\n",
      " [-0.25127614 -0.4313667   0.33362904 -6.2655106 ]\n",
      " [ 0.9974203  -2.7892256   6.049202    9.328975  ]], \n",
      "bias = [-0.528999   8.148437  -7.2017865]\n"
     ]
    }
   ],
   "source": [
    "w = model.state_dict()['softmax_layer.0.weight'].numpy()\n",
    "b = model.state_dict()['softmax_layer.0.bias'].numpy()\n",
    "\n",
    "print('weight = {}, \\nbias = {}'.format(w, b))"
   ]
  },
  {
   "cell_type": "markdown",
   "metadata": {},
   "source": [
    "## Plot learning curves"
   ]
  },
  {
   "cell_type": "code",
   "execution_count": 11,
   "metadata": {},
   "outputs": [
    {
     "data": {
      "image/png": "[encoded data removed]",
      "text/plain": [
       "<Figure size 640x480 with 1 Axes>"
      ]
     },
     "metadata": {},
     "output_type": "display_data"
    }
   ],
   "source": [
    "# plot learning curves\n",
    "plt.figure(1)\n",
    "plt.plot(range(no_epochs), train_loss_, label='train')\n",
    "plt.plot(range(no_epochs), test_loss_, label = \"test\")\n",
    "plt.xlabel('epochs')\n",
    "plt.ylabel('cross-entropy')\n",
    "plt.legend()\n",
    "plt.show()"
   ]
  },
  {
   "cell_type": "code",
   "execution_count": 12,
   "metadata": {},
   "outputs": [
    {
     "data": {
      "image/png": "[encoded data removed]",
      "text/plain": [
       "<Figure size 640x480 with 1 Axes>"
      ]
     },
     "metadata": {},
     "output_type": "display_data"
    }
   ],
   "source": [
    "plt.figure(2)\n",
    "plt.plot(range(no_epochs), train_acc_, label='train')\n",
    "plt.plot(range(no_epochs), test_acc_, label='test')\n",
    "plt.xlabel('epochs')\n",
    "plt.ylabel('classification accuracy')\n",
    "plt.legend()\n",
    "plt.show()"
   ]
  },
  {
   "cell_type": "code",
   "execution_count": null,
   "metadata": {},
   "outputs": [],
   "source": []
  }
 ],
 "metadata": {
  "kernelspec": {
   "display_name": "Python 3 (ipykernel)",
   "language": "python",
   "name": "python3"
  },
  "language_info": {
   "codemirror_mode": {
    "name": "ipython",
    "version": 3
   },
   "file_extension": ".py",
   "mimetype": "text/x-python",
   "name": "python",
   "nbconvert_exporter": "python",
   "pygments_lexer": "ipython3",
   "version": "3.12.3"
  }
 },
 "nbformat": 4,
 "nbformat_minor": 4
}
