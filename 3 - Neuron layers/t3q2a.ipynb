{
 "cells": [
  {
   "cell_type": "markdown",
   "metadata": {},
   "source": [
    "## Tutorial 3.2\n",
    "\n",
    "The Linnerud dataset is a multi-output regression dataset. It consists of three excercise (data) and three physiological (target) variables collected from twenty middle-aged men in a fitness club:\n",
    "\n",
    "physiological - CSV containing 20 observations on 3 physiological variables: Weight, Waist and Pulse.\n",
    "\n",
    "exercise - CSV containing 20 observations on 3 exercise variables: Chins, Situps and Jumps."
   ]
  },
  {
   "cell_type": "code",
   "execution_count": 1,
   "metadata": {},
   "outputs": [],
   "source": [
    "import pandas as pd\n",
    "import numpy as np\n",
    "import matplotlib.pyplot as plt\n",
    "import seaborn as sns\n",
    "\n",
    "import time\n",
    "import torch\n",
    "from torch import nn"
   ]
  },
  {
   "cell_type": "code",
   "execution_count": 2,
   "metadata": {},
   "outputs": [
    {
     "data": {
      "text/plain": [
       "<torch._C.Generator at 0x12ba8f0d0>"
      ]
     },
     "execution_count": 2,
     "metadata": {},
     "output_type": "execute_result"
    }
   ],
   "source": [
    "SEED = 100\n",
    "np.random.seed(SEED)\n",
    "torch.manual_seed(SEED)"
   ]
  },
  {
   "cell_type": "code",
   "execution_count": 3,
   "metadata": {},
   "outputs": [],
   "source": [
    "from sklearn.datasets import load_linnerud\n",
    "\n",
    "X, y = load_linnerud(return_X_y=True)"
   ]
  },
  {
   "cell_type": "code",
   "execution_count": 4,
   "metadata": {},
   "outputs": [
    {
     "name": "stdout",
     "output_type": "stream",
     "text": [
      "   weight  waist  pulse\n",
      "0   191.0   36.0   50.0\n",
      "1   189.0   37.0   52.0\n",
      "2   193.0   38.0   58.0\n",
      "3   162.0   35.0   62.0\n",
      "4   189.0   35.0   46.0\n"
     ]
    }
   ],
   "source": [
    "# output dataframe\n",
    "df1 = pd.DataFrame(y, columns=[\"weight\",\"waist\",\"pulse\"])\n",
    "print(df1[:5])"
   ]
  },
  {
   "cell_type": "code",
   "execution_count": 5,
   "metadata": {},
   "outputs": [
    {
     "name": "stdout",
     "output_type": "stream",
     "text": [
      "   chins  sit_ups  jumps\n",
      "1    2.0    110.0   60.0\n",
      "2   12.0    101.0  101.0\n",
      "3   12.0    105.0   37.0\n",
      "4   13.0    155.0   58.0\n"
     ]
    }
   ],
   "source": [
    "# input data frame\n",
    "df2 = pd.DataFrame(X, columns=[\"chins\", \"sit_ups\", \"jumps\"])\n",
    "print(df2[1:5])"
   ]
  },
  {
   "cell_type": "code",
   "execution_count": 6,
   "metadata": {},
   "outputs": [
    {
     "data": {
      "text/html": [
       "<div>\n",
       "<style scoped>\n",
       "    .dataframe tbody tr th:only-of-type {\n",
       "        vertical-align: middle;\n",
       "    }\n",
       "\n",
       "    .dataframe tbody tr th {\n",
       "        vertical-align: top;\n",
       "    }\n",
       "\n",
       "    .dataframe thead th {\n",
       "        text-align: right;\n",
       "    }\n",
       "</style>\n",
       "<table border=\"1\" class=\"dataframe\">\n",
       "  <thead>\n",
       "    <tr style=\"text-align: right;\">\n",
       "      <th></th>\n",
       "      <th>weight</th>\n",
       "      <th>waist</th>\n",
       "      <th>pulse</th>\n",
       "    </tr>\n",
       "  </thead>\n",
       "  <tbody>\n",
       "    <tr>\n",
       "      <th>count</th>\n",
       "      <td>20.000000</td>\n",
       "      <td>20.000000</td>\n",
       "      <td>20.000000</td>\n",
       "    </tr>\n",
       "    <tr>\n",
       "      <th>mean</th>\n",
       "      <td>178.600000</td>\n",
       "      <td>35.400000</td>\n",
       "      <td>56.100000</td>\n",
       "    </tr>\n",
       "    <tr>\n",
       "      <th>std</th>\n",
       "      <td>24.690505</td>\n",
       "      <td>3.201973</td>\n",
       "      <td>7.210373</td>\n",
       "    </tr>\n",
       "    <tr>\n",
       "      <th>min</th>\n",
       "      <td>138.000000</td>\n",
       "      <td>31.000000</td>\n",
       "      <td>46.000000</td>\n",
       "    </tr>\n",
       "    <tr>\n",
       "      <th>25%</th>\n",
       "      <td>160.750000</td>\n",
       "      <td>33.000000</td>\n",
       "      <td>51.500000</td>\n",
       "    </tr>\n",
       "    <tr>\n",
       "      <th>50%</th>\n",
       "      <td>176.000000</td>\n",
       "      <td>35.000000</td>\n",
       "      <td>55.000000</td>\n",
       "    </tr>\n",
       "    <tr>\n",
       "      <th>75%</th>\n",
       "      <td>191.500000</td>\n",
       "      <td>37.000000</td>\n",
       "      <td>60.500000</td>\n",
       "    </tr>\n",
       "    <tr>\n",
       "      <th>max</th>\n",
       "      <td>247.000000</td>\n",
       "      <td>46.000000</td>\n",
       "      <td>74.000000</td>\n",
       "    </tr>\n",
       "  </tbody>\n",
       "</table>\n",
       "</div>"
      ],
      "text/plain": [
       "           weight      waist      pulse\n",
       "count   20.000000  20.000000  20.000000\n",
       "mean   178.600000  35.400000  56.100000\n",
       "std     24.690505   3.201973   7.210373\n",
       "min    138.000000  31.000000  46.000000\n",
       "25%    160.750000  33.000000  51.500000\n",
       "50%    176.000000  35.000000  55.000000\n",
       "75%    191.500000  37.000000  60.500000\n",
       "max    247.000000  46.000000  74.000000"
      ]
     },
     "execution_count": 6,
     "metadata": {},
     "output_type": "execute_result"
    }
   ],
   "source": [
    "df1.describe()"
   ]
  },
  {
   "cell_type": "code",
   "execution_count": 7,
   "metadata": {},
   "outputs": [
    {
     "data": {
      "text/html": [
       "<div>\n",
       "<style scoped>\n",
       "    .dataframe tbody tr th:only-of-type {\n",
       "        vertical-align: middle;\n",
       "    }\n",
       "\n",
       "    .dataframe tbody tr th {\n",
       "        vertical-align: top;\n",
       "    }\n",
       "\n",
       "    .dataframe thead th {\n",
       "        text-align: right;\n",
       "    }\n",
       "</style>\n",
       "<table border=\"1\" class=\"dataframe\">\n",
       "  <thead>\n",
       "    <tr style=\"text-align: right;\">\n",
       "      <th></th>\n",
       "      <th>chins</th>\n",
       "      <th>sit_ups</th>\n",
       "      <th>jumps</th>\n",
       "    </tr>\n",
       "  </thead>\n",
       "  <tbody>\n",
       "    <tr>\n",
       "      <th>count</th>\n",
       "      <td>20.000000</td>\n",
       "      <td>20.000000</td>\n",
       "      <td>20.00000</td>\n",
       "    </tr>\n",
       "    <tr>\n",
       "      <th>mean</th>\n",
       "      <td>9.450000</td>\n",
       "      <td>145.550000</td>\n",
       "      <td>70.30000</td>\n",
       "    </tr>\n",
       "    <tr>\n",
       "      <th>std</th>\n",
       "      <td>5.286278</td>\n",
       "      <td>62.566575</td>\n",
       "      <td>51.27747</td>\n",
       "    </tr>\n",
       "    <tr>\n",
       "      <th>min</th>\n",
       "      <td>1.000000</td>\n",
       "      <td>50.000000</td>\n",
       "      <td>25.00000</td>\n",
       "    </tr>\n",
       "    <tr>\n",
       "      <th>25%</th>\n",
       "      <td>4.750000</td>\n",
       "      <td>101.000000</td>\n",
       "      <td>39.50000</td>\n",
       "    </tr>\n",
       "    <tr>\n",
       "      <th>50%</th>\n",
       "      <td>11.500000</td>\n",
       "      <td>122.500000</td>\n",
       "      <td>54.00000</td>\n",
       "    </tr>\n",
       "    <tr>\n",
       "      <th>75%</th>\n",
       "      <td>13.250000</td>\n",
       "      <td>210.000000</td>\n",
       "      <td>85.25000</td>\n",
       "    </tr>\n",
       "    <tr>\n",
       "      <th>max</th>\n",
       "      <td>17.000000</td>\n",
       "      <td>251.000000</td>\n",
       "      <td>250.00000</td>\n",
       "    </tr>\n",
       "  </tbody>\n",
       "</table>\n",
       "</div>"
      ],
      "text/plain": [
       "           chins     sit_ups      jumps\n",
       "count  20.000000   20.000000   20.00000\n",
       "mean    9.450000  145.550000   70.30000\n",
       "std     5.286278   62.566575   51.27747\n",
       "min     1.000000   50.000000   25.00000\n",
       "25%     4.750000  101.000000   39.50000\n",
       "50%    11.500000  122.500000   54.00000\n",
       "75%    13.250000  210.000000   85.25000\n",
       "max    17.000000  251.000000  250.00000"
      ]
     },
     "execution_count": 7,
     "metadata": {},
     "output_type": "execute_result"
    }
   ],
   "source": [
    "df2.describe()"
   ]
  },
  {
   "cell_type": "code",
   "execution_count": 8,
   "metadata": {},
   "outputs": [],
   "source": [
    "df = pd.merge(df1, df2, left_index=True, right_index=True)"
   ]
  },
  {
   "cell_type": "code",
   "execution_count": 9,
   "metadata": {},
   "outputs": [
    {
     "data": {
      "image/png": "[encoded data removed]",
      "text/plain": [
       "<Figure size 1200x900 with 2 Axes>"
      ]
     },
     "metadata": {},
     "output_type": "display_data"
    }
   ],
   "source": [
    "# plot correlations between input and output variables\n",
    "corrmat = df.corr()\n",
    "f, ax = plt.subplots(figsize=(12, 9))\n",
    "sns.heatmap(corrmat, vmax=.8, square=True);"
   ]
  },
  {
   "cell_type": "code",
   "execution_count": 10,
   "metadata": {},
   "outputs": [
    {
     "data": {
      "text/plain": [
       "((15, 3), (5, 3), (15, 3), (5, 3))"
      ]
     },
     "execution_count": 10,
     "metadata": {},
     "output_type": "execute_result"
    }
   ],
   "source": [
    "from sklearn.model_selection import train_test_split\n",
    "\n",
    "# Split into validation and training data\n",
    "X_train, X_test, y_train, y_test = train_test_split(X, y, test_size=0.25, random_state=1)\n",
    "X_train.shape, X_test.shape, y_train.shape, y_test.shape"
   ]
  },
  {
   "cell_type": "code",
   "execution_count": 11,
   "metadata": {},
   "outputs": [
    {
     "name": "stdout",
     "output_type": "stream",
     "text": [
      "[  9.06666667 161.6         77.8       ]\n",
      "[  28.46222222 3795.17333333 2861.62666667]\n"
     ]
    }
   ],
   "source": [
    "# preprocess input and output data\n",
    "from sklearn import preprocessing\n",
    "\n",
    "# normal Gaussian scaling for inputs\n",
    "X_scaler = preprocessing.StandardScaler().fit(X_train)\n",
    "X_scaled = X_scaler.transform(X_train)\n",
    "\n",
    "print(X_scaler.mean_)\n",
    "print(X_scaler.var_)"
   ]
  },
  {
   "cell_type": "code",
   "execution_count": 12,
   "metadata": {},
   "outputs": [
    {
     "name": "stdout",
     "output_type": "stream",
     "text": [
      "[0.00917431 0.06666667 0.03571429]\n",
      "[-1.26605505 -2.06666667 -1.64285714]\n"
     ]
    }
   ],
   "source": [
    "# linear scaling upto [0,1] for outputs\n",
    "y_scaler = preprocessing.MinMaxScaler().fit(y_train)\n",
    "y_scaled = y_scaler.transform(y_train)\n",
    "\n",
    "print(y_scaler.scale_)\n",
    "print(y_scaler.min_)"
   ]
  },
  {
   "cell_type": "code",
   "execution_count": 13,
   "metadata": {},
   "outputs": [],
   "source": [
    "# a class for the preceptron layer\n",
    "class Perceptron_Layer():\n",
    "  def __init__(self, no_features, no_labels):\n",
    "    self.w = torch.tensor(np.random.rand(no_features,no_labels), dtype=torch.double)\n",
    "    self.b = torch.zeros([no_labels], dtype=torch.double)\n",
    "\n",
    "  def __call__(self, x):\n",
    "    u = torch.matmul(torch.tensor(x), self.w) + self.b\n",
    "    y = torch.sigmoid(u)\n",
    "    return y\n",
    "\n",
    "def loss_fn(predicted_y, target_y):\n",
    "    return torch.mean(torch.square(predicted_y - torch.tensor(target_y)))\n",
    "\n",
    "def train(model, inputs, outputs, learning_rate):\n",
    "    y = model(inputs)\n",
    "    dy = y*(1-y)\n",
    "    grad_u = -(torch.tensor(outputs) - y)*dy\n",
    "    grad_w = torch.matmul(torch.transpose(torch.tensor(inputs), 0, 1), grad_u)\n",
    "    grad_b = torch.sum(grad_u, dim = 0)\n",
    "    \n",
    "    model.w -= learning_rate * grad_w\n",
    "    model.b -= learning_rate * grad_b"
   ]
  },
  {
   "cell_type": "code",
   "execution_count": 14,
   "metadata": {},
   "outputs": [
    {
     "name": "stdout",
     "output_type": "stream",
     "text": [
      "w: [[0.54340494 0.27836939 0.42451759]\n",
      " [0.84477613 0.00471886 0.12156912]\n",
      " [0.67074908 0.82585276 0.13670659]], b: [0. 0. 0.]\n"
     ]
    }
   ],
   "source": [
    "no_features, no_labels = 3, 3\n",
    "model = Perceptron_Layer(no_features, no_labels)\n",
    "\n",
    "print('w: {}, b: {}'.format(model.w.numpy(), model.b.numpy()))"
   ]
  },
  {
   "cell_type": "code",
   "execution_count": 15,
   "metadata": {},
   "outputs": [
    {
     "name": "stdout",
     "output_type": "stream",
     "text": [
      "epoch:1000, loss:0.06394892990570825\n",
      "epoch:2000, loss:0.04765978692480575\n",
      "epoch:3000, loss:0.04549999072483404\n",
      "epoch:4000, loss:0.04457093498238381\n",
      "epoch:5000, loss:0.0440103069888405\n",
      "epoch:6000, loss:0.04361062153554822\n",
      "epoch:7000, loss:0.04330200407966506\n",
      "epoch:8000, loss:0.04305438566667594\n",
      "epoch:9000, loss:0.04285173901611329\n",
      "epoch:10000, loss:0.04268400910360139\n",
      "time for a weight update: 0.09856\n",
      "w: [[ 0.02181332 -0.28072956  0.10543114]\n",
      " [-0.63641939 -0.86665438  0.39965294]\n",
      " [ 0.14025573  0.52016199 -0.31047625]], b: [-0.61375943 -1.17091157 -0.58438207]\n"
     ]
    }
   ],
   "source": [
    "no_epochs, lr = 10000, 0.001\n",
    "cost = []\n",
    "t = 0\n",
    "idx = np.arange(len(X_scaled))\n",
    "for epoch in range(no_epochs):\n",
    "    \n",
    "    np.random.shuffle(idx)\n",
    "    \n",
    "    y_pred = model(X_scaled[idx])\n",
    "    loss = loss_fn(y_pred, y_scaled[idx])\n",
    "    \n",
    "    start = time.time()\n",
    "    train(model, X_scaled[idx], y_scaled[idx], lr)\n",
    "    t += time.time() - start\n",
    "    cost.append(loss)\n",
    "\n",
    "    if epoch%1000 == 999:\n",
    "        print('epoch:{}, loss:{}'.format(epoch+1,cost[epoch]))\n",
    "\n",
    "print('time for a weight update: %2.5f'%(t*1000/no_epochs))\n",
    "print('w: {}, b: {}'.format(model.w.numpy(), model.b.numpy()))"
   ]
  },
  {
   "cell_type": "code",
   "execution_count": 16,
   "metadata": {},
   "outputs": [
    {
     "data": {
      "text/plain": [
       "Text(0.5, 1.0, 'gd with alpha = 0.001')"
      ]
     },
     "execution_count": 16,
     "metadata": {},
     "output_type": "execute_result"
    },
    {
     "data": {
      "image/png": "[encoded data removed]",
      "text/plain": [
       "<Figure size 640x480 with 1 Axes>"
      ]
     },
     "metadata": {},
     "output_type": "display_data"
    }
   ],
   "source": [
    "# plot learning curves\n",
    "plt.figure(1)\n",
    "plt.plot(range(no_epochs), cost)\n",
    "plt.xlabel('epochs')\n",
    "plt.ylabel('mean square error')\n",
    "plt.title('gd with alpha = {}'.format(lr))"
   ]
  },
  {
   "cell_type": "code",
   "execution_count": 17,
   "metadata": {},
   "outputs": [
    {
     "name": "stdout",
     "output_type": "stream",
     "text": [
      "[[189.12466723  35.2568241   55.56086718]\n",
      " [199.99186844  38.54345309  53.32745835]\n",
      " [189.87419301  36.14730902  54.87596576]\n",
      " [185.56403779  33.9907707   56.79259448]\n",
      " [194.81755658  37.57784685  53.23575699]] [[162.  35.  62.]\n",
      " [176.  37.  54.]\n",
      " [211.  38.  56.]\n",
      " [169.  34.  50.]\n",
      " [193.  38.  58.]]\n",
      "143.56015858920873\n"
     ]
    }
   ],
   "source": [
    "X_scaled = X_scaler.transform(X_test)\n",
    "y_pred = model(X_scaled)\n",
    "#y_scaled = (y_pred - torch.tensor(y_scaler.min_))/torch.tensor(y_scaler.scale_)\n",
    "y_scaled = y_scaler.inverse_transform(y_pred.detach().numpy())\n",
    "loss = loss_fn(torch.tensor(y_scaled, dtype=torch.float), y_test).item()\n",
    "\n",
    "print(y_scaled, y_test)\n",
    "print(loss)"
   ]
  },
  {
   "cell_type": "code",
   "execution_count": 20,
   "metadata": {},
   "outputs": [
    {
     "data": {
      "text/plain": [
       "array([407.06558087,   1.21179368,  22.40310961])"
      ]
     },
     "execution_count": 20,
     "metadata": {},
     "output_type": "execute_result"
    }
   ],
   "source": [
    "from sklearn.metrics import root_mean_squared_error\n",
    "\n",
    "rms = root_mean_squared_error(y_scaled, y_test, multioutput='raw_values')\n",
    "rms*rms"
   ]
  },
  {
   "cell_type": "code",
   "execution_count": null,
   "metadata": {},
   "outputs": [],
   "source": [
    "from sklearn.metrics import r2_score\n",
    "\n",
    "r2 = r2_score(y_scaled, y_test,  multioutput='raw_values')\n",
    "r2"
   ]
  },
  {
   "cell_type": "code",
   "execution_count": null,
   "metadata": {},
   "outputs": [],
   "source": [
    "fig = plt.figure()\n",
    "ax = fig.add_subplot(projection='3d')\n",
    "ax.scatter(y_scaled[:,0], y_scaled[:,1], y_scaled[:,2], label='predicted')\n",
    "ax.scatter(y_test[:,0], y_test[:,1], y_test[:,2], label = 'test')\n",
    "\n",
    "ax.set_xlabel('weight')\n",
    "ax.set_ylabel('waist')\n",
    "ax.set_zlabel('pulse')\n",
    "plt.legend()\n",
    "plt.show()"
   ]
  },
  {
   "cell_type": "code",
   "execution_count": null,
   "metadata": {},
   "outputs": [],
   "source": []
  }
 ],
 "metadata": {
  "kernelspec": {
   "display_name": "Python 3 (ipykernel)",
   "language": "python",
   "name": "python3"
  },
  "language_info": {
   "codemirror_mode": {
    "name": "ipython",
    "version": 3
   },
   "file_extension": ".py",
   "mimetype": "text/x-python",
   "name": "python",
   "nbconvert_exporter": "python",
   "pygments_lexer": "ipython3",
   "version": "3.12.3"
  }
 },
 "nbformat": 4,
 "nbformat_minor": 4
}
