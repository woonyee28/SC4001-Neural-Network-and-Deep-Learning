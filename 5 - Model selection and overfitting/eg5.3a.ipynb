{
 "cells": [
  {
   "cell_type": "markdown",
   "metadata": {},
   "source": [
    "# Chapter 5, Example 3a\n",
    "## Three-way data split on Iris data"
   ]
  },
  {
   "cell_type": "code",
   "execution_count": 1,
   "metadata": {},
   "outputs": [],
   "source": [
    "import torch\n",
    "from torch import nn\n",
    "\n",
    "from sklearn import datasets\n",
    "\n",
    "# Helper libraries\n",
    "import numpy as np\n",
    "import matplotlib.pyplot as plt"
   ]
  },
  {
   "cell_type": "code",
   "execution_count": 2,
   "metadata": {},
   "outputs": [],
   "source": [
    "lr = 0.1\n",
    "no_epochs = 100\n",
    "\n",
    "no_labels = 3\n",
    "no_features = 4\n",
    "hidden_units = [2, 4, 6, 8, 10, 12]\n",
    "\n",
    "seed = 10\n",
    "torch.manual_seed(seed)\n",
    "np.random.seed(seed)"
   ]
  },
  {
   "cell_type": "code",
   "execution_count": 3,
   "metadata": {},
   "outputs": [
    {
     "name": "stdout",
     "output_type": "stream",
     "text": [
      "(150, 4)\n",
      "(150, 3)\n"
     ]
    }
   ],
   "source": [
    "no_inputs = 4\n",
    "no_outputs = 3\n",
    "\n",
    "# input data\n",
    "iris = datasets.load_iris()\n",
    "iris.data -= np.mean(iris.data, axis=0)\n",
    "\n",
    "no_data = len(iris.data)\n",
    "\n",
    "X = iris.data\n",
    "\n",
    "# convert the targets into one-hot matrix\n",
    "Y = np.zeros((no_data, no_outputs))\n",
    "for i in range(no_data):\n",
    "    Y[i, iris.target[i]] = 1\n",
    "    \n",
    "print(np.shape(X))\n",
    "print(np.shape(Y))"
   ]
  },
  {
   "cell_type": "code",
   "execution_count": 4,
   "metadata": {},
   "outputs": [],
   "source": [
    "class FFN(nn.Module):\n",
    "    def __init__(self, no_features, hidden_units, no_labels):\n",
    "        super().__init__()\n",
    "        self.relu_stack = nn.Sequential(\n",
    "            nn.Linear(no_features, hidden_units),\n",
    "            nn.ReLU(),\n",
    "            nn.Linear(hidden_units, no_labels),\n",
    "            nn.Softmax(dim=1)\n",
    "        )\n",
    "\n",
    "    def forward(self, x):\n",
    "        logits = self.relu_stack(x)\n",
    "        return logits"
   ]
  },
  {
   "cell_type": "code",
   "execution_count": 5,
   "metadata": {},
   "outputs": [
    {
     "name": "stdout",
     "output_type": "stream",
     "text": [
      "hidden units 2, mean accuracy = 0.5\n",
      "hidden units 4, mean accuracy = 0.68\n",
      "hidden units 6, mean accuracy = 0.8\n",
      "hidden units 8, mean accuracy = 0.88\n",
      "hidden units 10, mean accuracy = 0.82\n",
      "hidden units 12, mean accuracy = 0.82\n",
      "[0.5, 0.6800000071525574, 0.800000011920929, 0.8799999952316284, 0.8199999928474426, 0.8199999928474426]\n"
     ]
    }
   ],
   "source": [
    "idx = np.arange(no_data)\n",
    "np.random.shuffle(idx)\n",
    "X, Y = X[idx], Y[idx]\n",
    "\n",
    "x_train, y_train = X[:50], Y[:50]\n",
    "x_valid, y_valid = X[50:100], Y[50:100] \n",
    "x_test, y_test = X[100:], Y[100:]\n",
    "\n",
    "acc = []\n",
    "loss = []\n",
    "for no_hidden in hidden_units:\n",
    "        \n",
    "    model = FFN(no_inputs, no_hidden, no_outputs)\n",
    "    \n",
    "    loss_fn = torch.nn.CrossEntropyLoss()\n",
    "    optimizer = torch.optim.SGD(model.parameters(), lr=lr)\n",
    "    \n",
    "    for epoch in range(no_epochs):\n",
    "        pred = model(torch.tensor(x_train, dtype=torch.float))\n",
    "        loss_ = loss_fn(pred, torch.tensor(y_train, dtype=torch.float))\n",
    "    \n",
    "        # Backpropagation\n",
    "        optimizer.zero_grad()\n",
    "        loss_.backward()\n",
    "        optimizer.step()\n",
    "    \n",
    "    pred = model(torch.tensor(x_valid, dtype=torch.float))\n",
    "    acc_ = (pred.argmax(dim=1) == torch.tensor(y_valid, dtype=torch.float).argmax(dim=1)).type(torch.float).mean()\n",
    "    \n",
    "    acc.append(acc_.item())\n",
    "    \n",
    "    print('hidden units %d, mean accuracy = %g'% (no_hidden, acc_.item()))\n",
    "    \n",
    "print(acc)"
   ]
  },
  {
   "cell_type": "code",
   "execution_count": 6,
   "metadata": {},
   "outputs": [
    {
     "data": {
      "image/png": "[encoded data removed]",
      "text/plain": [
       "<Figure size 640x480 with 1 Axes>"
      ]
     },
     "metadata": {},
     "output_type": "display_data"
    }
   ],
   "source": [
    "plt.figure(1)\n",
    "plt.plot(hidden_units, acc, marker = 'x', linestyle = 'None')\n",
    "plt.xlabel('number of hidden units')\n",
    "plt.ylabel('accuracy')\n",
    "plt.title('Three-way data split')\n",
    "plt.show()"
   ]
  },
  {
   "cell_type": "code",
   "execution_count": 7,
   "metadata": {},
   "outputs": [
    {
     "name": "stdout",
     "output_type": "stream",
     "text": [
      "optimum hidden neurons 8\n"
     ]
    }
   ],
   "source": [
    "no_hidden = hidden_units[np.argmax(acc)]\n",
    "print(\"optimum hidden neurons %g\"%no_hidden)"
   ]
  },
  {
   "cell_type": "code",
   "execution_count": 8,
   "metadata": {},
   "outputs": [
    {
     "name": "stdout",
     "output_type": "stream",
     "text": [
      "hidden units 8, mean accuracy = 0.72\n"
     ]
    }
   ],
   "source": [
    "x_train, y_train = X[:100], Y[:100]\n",
    "    \n",
    "model = FFN(no_inputs, no_hidden, no_outputs)\n",
    "    \n",
    "optimizer = torch.optim.SGD(model.parameters(), lr=lr)\n",
    "    \n",
    "for epoch in range(no_epochs):\n",
    "    pred = model(torch.tensor(x_train, dtype=torch.float))\n",
    "    loss = loss_fn(pred, torch.tensor(y_train, dtype=torch.float))\n",
    "    \n",
    "    # Backpropagation\n",
    "    optimizer.zero_grad()\n",
    "    loss.backward()\n",
    "    optimizer.step()\n",
    "    \n",
    "pred = model(torch.tensor(x_test, dtype=torch.float))\n",
    "acc_ = (pred.argmax(1) == torch.tensor(y_test, dtype=torch.float).argmax(1)).type(torch.float).mean()\n",
    "\n",
    "print('hidden units %d, mean accuracy = %g'% (no_hidden, acc_))"
   ]
  },
  {
   "cell_type": "code",
   "execution_count": null,
   "metadata": {},
   "outputs": [],
   "source": []
  }
 ],
 "metadata": {
  "kernelspec": {
   "display_name": "Python 3 (ipykernel)",
   "language": "python",
   "name": "python3"
  },
  "language_info": {
   "codemirror_mode": {
    "name": "ipython",
    "version": 3
   },
   "file_extension": ".py",
   "mimetype": "text/x-python",
   "name": "python",
   "nbconvert_exporter": "python",
   "pygments_lexer": "ipython3",
   "version": "3.12.3"
  }
 },
 "nbformat": 4,
 "nbformat_minor": 4
}
