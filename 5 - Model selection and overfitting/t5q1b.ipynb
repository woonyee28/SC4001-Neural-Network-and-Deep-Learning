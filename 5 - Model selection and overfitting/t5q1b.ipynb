{
 "cells": [
  {
   "cell_type": "markdown",
   "metadata": {},
   "source": [
    "# Tuorial 5, Question 2"
   ]
  },
  {
   "cell_type": "code",
   "execution_count": 1,
   "metadata": {},
   "outputs": [],
   "source": [
    "import torch\n",
    "from torch import nn\n",
    "\n",
    "import numpy as np\n",
    "import matplotlib.pyplot as plt"
   ]
  },
  {
   "cell_type": "code",
   "execution_count": 2,
   "metadata": {},
   "outputs": [],
   "source": [
    "no_labels = 1\n",
    "no_features = 2\n",
    "no_exps = 10\n",
    "\n",
    "lr = 0.05\n",
    "no_epochs = 5000\n",
    "batch_size = 70\n",
    "patience = 10\n",
    "no_folds = 5\n",
    "\n",
    "hidden_units = [2, 4, 6, 8, 10]"
   ]
  },
  {
   "cell_type": "code",
   "execution_count": 3,
   "metadata": {},
   "outputs": [],
   "source": [
    "seed = 10\n",
    "torch.manual_seed(seed)\n",
    "np.random.seed(seed)"
   ]
  },
  {
   "cell_type": "code",
   "execution_count": 4,
   "metadata": {},
   "outputs": [],
   "source": [
    "class MLP(nn.Module):\n",
    "    def __init__(self, no_features, no_hidden, no_labels):\n",
    "        super().__init__()\n",
    "        self.mlp_stack = nn.Sequential(\n",
    "            nn.Linear(no_features, no_hidden),\n",
    "            nn.Sigmoid(),\n",
    "            nn.Linear(no_hidden, no_labels),\n",
    "        )\n",
    "\n",
    "    def forward(self, x):\n",
    "        logits = self.mlp_stack(x)\n",
    "        return logits"
   ]
  },
  {
   "cell_type": "code",
   "execution_count": 5,
   "metadata": {},
   "outputs": [],
   "source": [
    "class EarlyStopper:\n",
    "    def __init__(self, patience=10, min_delta=0):\n",
    "        self.patience = patience\n",
    "        self.min_delta = min_delta\n",
    "        self.counter = 0\n",
    "        self.min_validation_loss = np.inf\n",
    "\n",
    "    def early_stop(self, validation_loss):\n",
    "        if validation_loss < self.min_validation_loss:\n",
    "            self.min_validation_loss = validation_loss\n",
    "            self.counter = 0\n",
    "        elif validation_loss > (self.min_validation_loss + self.min_delta):\n",
    "            self.counter += 1\n",
    "            if self.counter >= self.patience:\n",
    "                return True\n",
    "        return False"
   ]
  },
  {
   "cell_type": "code",
   "execution_count": 6,
   "metadata": {},
   "outputs": [],
   "source": [
    "# perform experiments\n",
    "def train_exp(X, Y):\n",
    "    \n",
    "    err = []\n",
    "    for fold in range(no_folds):\n",
    "        start, end = fold*20, (fold+1)*20\n",
    "        x_test, y_test = X[start:end], Y[start:end]\n",
    "        x_train  = np.append(X[:start], X[end:], axis=0)\n",
    "        y_train = np.append(Y[:start], Y[end:], axis=0) \n",
    "\n",
    "        err_ = []\n",
    "        for no_hidden in hidden_units:\n",
    "\n",
    "            model = MLP(no_features, no_hidden, no_labels)\n",
    "    \n",
    "            loss_fn = torch.nn.MSELoss()\n",
    "            optimizer = torch.optim.SGD(model.parameters(), lr=lr)\n",
    "            early_stopper = EarlyStopper(patience=patience, min_delta=0)\n",
    "        \n",
    "            for epoch in range(no_epochs):\n",
    "                pred = model(torch.tensor(x_train, dtype=torch.float))\n",
    "                train_loss = loss_fn(pred, torch.tensor(y_train, dtype=torch.float))\n",
    "    \n",
    "                # Backpropagation\n",
    "                optimizer.zero_grad()\n",
    "                train_loss.backward()\n",
    "                optimizer.step()\n",
    "        \n",
    "                pred = model(torch.tensor(x_test, dtype=torch.float))\n",
    "                test_loss = loss_fn(pred, torch.tensor(y_test, dtype=torch.float))\n",
    "            \n",
    "                if early_stopper.early_stop(test_loss): \n",
    "                    break\n",
    "                    \n",
    "            err_.append(test_loss.item())\n",
    "                \n",
    "        err.append(err_)\n",
    "\n",
    "    cv_err = np.mean(np.array(err), axis = 0)\n",
    "\n",
    "    return cv_err"
   ]
  },
  {
   "cell_type": "code",
   "execution_count": 7,
   "metadata": {},
   "outputs": [],
   "source": [
    "# generate training data\n",
    "X = np.zeros((10*10, 2))\n",
    "no_data = 0\n",
    "for i in np.arange(-1.0, 1.001, 2.0/9.0):\n",
    "    for j in np.arange(-1.0, 1.001, 2.0/9.0):\n",
    "        X[no_data] = [i, j]\n",
    "        no_data += 1\n",
    "Y = np.zeros((no_data, 1))\n",
    "Y[:,0] = np.sin(np.pi*X[:,0])*np.cos(2*np.pi*X[:,1])"
   ]
  },
  {
   "cell_type": "code",
   "execution_count": 8,
   "metadata": {},
   "outputs": [
    {
     "name": "stdout",
     "output_type": "stream",
     "text": [
      "hidden units: [2, 4, 6, 8, 10]\n",
      "exp: 0, errors: [0.25438894 0.24965696 0.26125952 0.25600457 0.25328684]\n",
      "exp: 1, errors: [0.25141658 0.24929    0.24865358 0.25548323 0.262043  ]\n",
      "exp: 2, errors: [0.24677186 0.24782917 0.25550789 0.25769759 0.25525048]\n",
      "exp: 3, errors: [0.24588992 0.24667284 0.25094872 0.25302261 0.24871422]\n",
      "exp: 4, errors: [0.2467606  0.24877921 0.25066612 0.25010398 0.25943485]\n",
      "exp: 5, errors: [0.2521703  0.25417797 0.25531974 0.25271434 0.25669273]\n",
      "exp: 6, errors: [0.25478806 0.24708671 0.25319684 0.24255435 0.24506873]\n",
      "exp: 7, errors: [0.25110444 0.25212851 0.25346287 0.25382894 0.25035039]\n",
      "exp: 8, errors: [0.24659746 0.2513017  0.2548514  0.2547345  0.2505784 ]\n",
      "exp: 9, errors: [0.24926125 0.24663129 0.25126392 0.25526856 0.24949346]\n"
     ]
    }
   ],
   "source": [
    "idx = np.arange(no_data)\n",
    "\n",
    "# perform experiments\n",
    "err = []\n",
    "print('hidden units: {}'.format(hidden_units))\n",
    "for exp in range(no_exps):\n",
    " \n",
    "    np.random.shuffle(idx)\n",
    "    err.append(train_exp(X[idx], Y[idx]))\n",
    "    print('exp: {}, errors: {}'.format(exp, np.array(err[exp])))"
   ]
  },
  {
   "cell_type": "code",
   "execution_count": 9,
   "metadata": {},
   "outputs": [
    {
     "name": "stdout",
     "output_type": "stream",
     "text": [
      "mean errors: [0.24991494 0.24935543 0.25351306 0.25314127 0.25309131]\n",
      " *hidden units* 4 \n"
     ]
    }
   ],
   "source": [
    "# print the mean errors of different models\n",
    "mean_err = np.mean(np.array(err), axis = 0)\n",
    "print('mean errors: {}'.format(mean_err))\n",
    "print(' *hidden units* %d '%hidden_units[np.argmin(mean_err)])"
   ]
  },
  {
   "cell_type": "code",
   "execution_count": 10,
   "metadata": {},
   "outputs": [
    {
     "data": {
      "image/png": "[encoded data removed]",
      "text/plain": [
       "<Figure size 640x480 with 1 Axes>"
      ]
     },
     "metadata": {},
     "output_type": "display_data"
    }
   ],
   "source": [
    "plt.figure(1)\n",
    "plt.plot(hidden_units, mean_err, marker = 'x', linestyle = 'None')\n",
    "plt.xticks(hidden_units)\n",
    "plt.xlabel('number of hidden units')\n",
    "plt.ylabel('mean error')\n",
    "plt.show()"
   ]
  },
  {
   "cell_type": "code",
   "execution_count": null,
   "metadata": {},
   "outputs": [],
   "source": []
  }
 ],
 "metadata": {
  "kernelspec": {
   "display_name": "Python 3 (ipykernel)",
   "language": "python",
   "name": "python3"
  },
  "language_info": {
   "codemirror_mode": {
    "name": "ipython",
    "version": 3
   },
   "file_extension": ".py",
   "mimetype": "text/x-python",
   "name": "python",
   "nbconvert_exporter": "python",
   "pygments_lexer": "ipython3",
   "version": "3.11.2"
  }
 },
 "nbformat": 4,
 "nbformat_minor": 4
}
