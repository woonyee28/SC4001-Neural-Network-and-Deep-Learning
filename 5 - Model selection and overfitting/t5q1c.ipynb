{
 "cells": [
  {
   "cell_type": "markdown",
   "metadata": {},
   "source": [
    "# Tuorial 5, Question 3"
   ]
  },
  {
   "cell_type": "code",
   "execution_count": 1,
   "metadata": {},
   "outputs": [],
   "source": [
    "import torch\n",
    "from torch import nn\n",
    "\n",
    "import numpy as np\n",
    "import matplotlib.pyplot as plt"
   ]
  },
  {
   "cell_type": "code",
   "execution_count": 2,
   "metadata": {},
   "outputs": [],
   "source": [
    "no_labels = 1\n",
    "no_features = 2\n",
    "no_exps = 10\n",
    "\n",
    "lr = 0.05\n",
    "no_epochs = 5000\n",
    "patience = 10\n",
    "\n",
    "hidden_units = [2, 4, 6, 8, 10]"
   ]
  },
  {
   "cell_type": "code",
   "execution_count": 3,
   "metadata": {},
   "outputs": [],
   "source": [
    "seed = 10\n",
    "torch.manual_seed(seed)\n",
    "np.random.seed(seed)"
   ]
  },
  {
   "cell_type": "code",
   "execution_count": 4,
   "metadata": {},
   "outputs": [],
   "source": [
    "class MLP(nn.Module):\n",
    "    def __init__(self, no_features, no_hidden, no_labels):\n",
    "        super().__init__()\n",
    "        self.mlp_stack = nn.Sequential(\n",
    "            nn.Linear(no_features, no_hidden),\n",
    "            nn.Sigmoid(),\n",
    "            nn.Linear(no_hidden, no_labels),\n",
    "        )\n",
    "\n",
    "    def forward(self, x):\n",
    "        logits = self.mlp_stack(x)\n",
    "        return logits"
   ]
  },
  {
   "cell_type": "code",
   "execution_count": 5,
   "metadata": {},
   "outputs": [],
   "source": [
    "class EarlyStopper:\n",
    "    def __init__(self, patience=10, min_delta=0):\n",
    "        self.patience = patience\n",
    "        self.min_delta = min_delta\n",
    "        self.counter = 0\n",
    "        self.min_validation_loss = np.inf\n",
    "\n",
    "    def early_stop(self, validation_loss):\n",
    "        if validation_loss < self.min_validation_loss:\n",
    "            self.min_validation_loss = validation_loss\n",
    "            self.counter = 0\n",
    "        elif validation_loss > (self.min_validation_loss + self.min_delta):\n",
    "            self.counter += 1\n",
    "            if self.counter >= self.patience:\n",
    "                return True\n",
    "        return False"
   ]
  },
  {
   "cell_type": "code",
   "execution_count": 6,
   "metadata": {},
   "outputs": [],
   "source": [
    "# perform experiments\n",
    "def train_exp(X, Y):\n",
    "\n",
    "    x_test, y_test = X[:34], Y[:34]\n",
    "    x_train, y_train = X[34:77], Y[34:77]\n",
    "    x_valid, y_valid = X[77:], Y[77:]\n",
    "\n",
    "    err = []\n",
    "    for no_hidden in hidden_units:\n",
    "\n",
    "        model = MLP(no_features, no_hidden, no_labels)\n",
    "    \n",
    "        loss_fn = torch.nn.MSELoss()\n",
    "        optimizer = torch.optim.SGD(model.parameters(), lr=lr)\n",
    "        early_stopper = EarlyStopper(patience=patience, min_delta=0)\n",
    "        \n",
    "        for epoch in range(no_epochs):\n",
    "            pred = model(torch.tensor(x_train, dtype=torch.float))\n",
    "            train_loss = loss_fn(pred, torch.tensor(y_train, dtype=torch.float))\n",
    "    \n",
    "            # Backpropagation\n",
    "            optimizer.zero_grad()\n",
    "            train_loss.backward()\n",
    "            optimizer.step()\n",
    "        \n",
    "            pred = model(torch.tensor(x_valid, dtype=torch.float))\n",
    "            valid_loss = loss_fn(pred, torch.tensor(y_valid, dtype=torch.float))\n",
    "            \n",
    "            if early_stopper.early_stop(valid_loss): \n",
    "                break\n",
    "                    \n",
    "        err.append(valid_loss.item())\n",
    "    \n",
    "    no_hidden = hidden_units[np.argmin(err)]       \n",
    "    x_train, y_train = X[34:], Y[34:]\n",
    "    \n",
    "    model = MLP(no_features, no_hidden, no_labels)\n",
    "    \n",
    "    loss_fn = torch.nn.MSELoss()\n",
    "    optimizer = torch.optim.SGD(model.parameters(), lr=lr)\n",
    "    early_stopper = EarlyStopper(patience=patience, min_delta=0)\n",
    "        \n",
    "    for epoch in range(no_epochs):\n",
    "        pred = model(torch.tensor(x_train, dtype=torch.float))\n",
    "        train_loss = loss_fn(pred, torch.tensor(y_train, dtype=torch.float))\n",
    "    \n",
    "        # Backpropagation\n",
    "        optimizer.zero_grad()\n",
    "        train_loss.backward()\n",
    "        optimizer.step()\n",
    "        \n",
    "        pred = model(torch.tensor(x_test, dtype=torch.float))\n",
    "        test_loss = loss_fn(pred, torch.tensor(y_test, dtype=torch.float))\n",
    "            \n",
    "        if early_stopper.early_stop(test_loss): \n",
    "            break\n",
    "        \n",
    "    return no_hidden, test_loss.item()\n",
    "    "
   ]
  },
  {
   "cell_type": "code",
   "execution_count": 7,
   "metadata": {},
   "outputs": [],
   "source": [
    "# generate training data\n",
    "X = np.zeros((10*10, 2))\n",
    "no_data = 0\n",
    "for i in np.arange(-1.0, 1.001, 2.0/9.0):\n",
    "    for j in np.arange(-1.0, 1.001, 2.0/9.0):\n",
    "        X[no_data] = [i, j]\n",
    "        no_data += 1\n",
    "Y = np.zeros((no_data, 1))\n",
    "Y[:,0] = np.sin(np.pi*X[:,0])*np.cos(2*np.pi*X[:,1])"
   ]
  },
  {
   "cell_type": "code",
   "execution_count": 8,
   "metadata": {},
   "outputs": [
    {
     "name": "stdout",
     "output_type": "stream",
     "text": [
      "hidden units: [2, 4, 6, 8, 10]\n",
      "exp 0, hidden units 8, error 0.21515\n",
      "exp 1, hidden units 8, error 0.30891\n",
      "exp 2, hidden units 2, error 0.290746\n",
      "exp 3, hidden units 6, error 0.25048\n",
      "exp 4, hidden units 2, error 0.24168\n",
      "exp 5, hidden units 2, error 0.271474\n",
      "exp 6, hidden units 4, error 0.332684\n",
      "exp 7, hidden units 2, error 0.244129\n",
      "exp 8, hidden units 4, error 0.293861\n",
      "exp 9, hidden units 4, error 0.226081\n"
     ]
    }
   ],
   "source": [
    "idx = np.arange(no_data)\n",
    "\n",
    "# perform experiments\n",
    "no_hidden, err = [], []\n",
    "\n",
    "print('hidden units: {}'.format(hidden_units))\n",
    "for exp in range(no_exps):\n",
    " \n",
    "    np.random.shuffle(idx)\n",
    "    no_hidden_, err_ = train_exp(X[idx], Y[idx])\n",
    "        \n",
    "    no_hidden.append(no_hidden_)\n",
    "    err.append(err_)\n",
    "    print('exp %d, hidden units %d, error %g'%(exp, no_hidden[exp], err[exp]))\n"
   ]
  },
  {
   "cell_type": "code",
   "execution_count": 9,
   "metadata": {},
   "outputs": [
    {
     "name": "stdout",
     "output_type": "stream",
     "text": [
      "[4 3 1 2 0]\n",
      "* 2 *\n",
      "error = 0.21515\n"
     ]
    }
   ],
   "source": [
    "# find the consensus of experiments\n",
    "hidden_counts = np.zeros(len(hidden_units)).astype(int)\n",
    "for exp in range(no_exps):\n",
    "    hidden_counts[no_hidden[exp]//2-1] += 1\n",
    "\n",
    "print(hidden_counts)\n",
    "opt_hidden = hidden_units[np.argmax(hidden_counts)]\n",
    "print('* %d *'%opt_hidden)\n",
    "\n",
    "print('error = %g'%np.mean(err[no_hidden == opt_hidden]))"
   ]
  },
  {
   "cell_type": "code",
   "execution_count": 10,
   "metadata": {},
   "outputs": [
    {
     "data": {
      "image/png": "[encoded data removed]",
      "text/plain": [
       "<Figure size 640x480 with 1 Axes>"
      ]
     },
     "metadata": {},
     "output_type": "display_data"
    },
    {
     "data": {
      "image/png": "[encoded data removed]",
      "text/plain": [
       "<Figure size 640x480 with 1 Axes>"
      ]
     },
     "metadata": {},
     "output_type": "display_data"
    }
   ],
   "source": [
    "# plot the results\n",
    "plt.figure(1)\n",
    "plt.plot(range(no_exps), no_hidden, marker = 'x', linestyle = 'None')\n",
    "plt.yticks(hidden_units)\n",
    "plt.xticks(range(no_exps), np.arange(no_exps)+1)\n",
    "plt.xlabel('experiment')\n",
    "plt.ylabel('optimum number of hidden units')\n",
    "plt.show()\n",
    "\n",
    "plt.figure(2)\n",
    "plt.plot(range(no_exps), err, marker = 'x', linestyle = 'None')\n",
    "plt.xticks(range(no_exps), np.arange(no_exps)+1)\n",
    "plt.xlabel('experiment')\n",
    "plt.ylabel('test error')\n",
    "plt.show()"
   ]
  },
  {
   "cell_type": "code",
   "execution_count": null,
   "metadata": {},
   "outputs": [],
   "source": []
  }
 ],
 "metadata": {
  "kernelspec": {
   "display_name": "Python 3 (ipykernel)",
   "language": "python",
   "name": "python3"
  },
  "language_info": {
   "codemirror_mode": {
    "name": "ipython",
    "version": 3
   },
   "file_extension": ".py",
   "mimetype": "text/x-python",
   "name": "python",
   "nbconvert_exporter": "python",
   "pygments_lexer": "ipython3",
   "version": "3.11.2"
  }
 },
 "nbformat": 4,
 "nbformat_minor": 4
}
