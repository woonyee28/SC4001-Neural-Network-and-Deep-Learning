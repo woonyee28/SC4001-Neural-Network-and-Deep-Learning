{
 "cells": [
  {
   "cell_type": "markdown",
   "metadata": {},
   "source": [
    "# Tuorial 5, Question 1"
   ]
  },
  {
   "cell_type": "code",
   "execution_count": 1,
   "metadata": {},
   "outputs": [],
   "source": [
    "import torch\n",
    "from torch import nn\n",
    "\n",
    "import numpy as np\n",
    "import matplotlib.pyplot as plt"
   ]
  },
  {
   "cell_type": "code",
   "execution_count": 2,
   "metadata": {},
   "outputs": [],
   "source": [
    "no_labels = 1\n",
    "no_features = 2\n",
    "no_exps = 10\n",
    "\n",
    "lr = 0.05\n",
    "no_epochs = 5000\n",
    "patience = 10\n",
    "\n",
    "hidden_units = [2, 4, 6, 8, 10]"
   ]
  },
  {
   "cell_type": "code",
   "execution_count": 3,
   "metadata": {},
   "outputs": [],
   "source": [
    "seed = 10\n",
    "torch.manual_seed(seed)\n",
    "np.random.seed(seed)"
   ]
  },
  {
   "cell_type": "code",
   "execution_count": 4,
   "metadata": {},
   "outputs": [],
   "source": [
    "class MLP(nn.Module):\n",
    "    def __init__(self, no_features, no_hidden, no_labels):\n",
    "        super().__init__()\n",
    "        self.mlp_stack = nn.Sequential(\n",
    "            nn.Linear(no_features, no_hidden),\n",
    "            nn.Sigmoid(),\n",
    "            nn.Linear(no_hidden, no_labels),\n",
    "        )\n",
    "\n",
    "    def forward(self, x):\n",
    "        logits = self.mlp_stack(x)\n",
    "        return logits"
   ]
  },
  {
   "cell_type": "code",
   "execution_count": 5,
   "metadata": {},
   "outputs": [],
   "source": [
    "class EarlyStopper:\n",
    "    def __init__(self, patience=10, min_delta=0):\n",
    "        self.patience = patience\n",
    "        self.min_delta = min_delta\n",
    "        self.counter = 0\n",
    "        self.min_validation_loss = np.inf\n",
    "\n",
    "    def early_stop(self, validation_loss):\n",
    "        if validation_loss < self.min_validation_loss:\n",
    "            self.min_validation_loss = validation_loss\n",
    "            self.counter = 0\n",
    "        elif validation_loss > (self.min_validation_loss + self.min_delta):\n",
    "            self.counter += 1\n",
    "            if self.counter >= self.patience:\n",
    "                return True\n",
    "        return False"
   ]
  },
  {
   "cell_type": "code",
   "execution_count": 6,
   "metadata": {},
   "outputs": [],
   "source": [
    "def train_exp(X, Y):\n",
    "\n",
    "    x_train, y_train, x_test, y_test = X[:70], Y[:70], X[70:], Y[70:]\n",
    "    \n",
    "    loss_ = []\n",
    "    for no_hidden in hidden_units:\n",
    "        \n",
    "        model = MLP(no_features, no_hidden, no_labels)\n",
    "    \n",
    "        loss_fn = torch.nn.MSELoss()\n",
    "        optimizer = torch.optim.SGD(model.parameters(), lr=lr)\n",
    "        early_stopper = EarlyStopper(patience=patience, min_delta=0)\n",
    "        \n",
    "        for epoch in range(no_epochs):\n",
    "            pred = model(torch.tensor(x_train, dtype=torch.float))\n",
    "            train_loss = loss_fn(pred, torch.tensor(y_train, dtype=torch.float))\n",
    "    \n",
    "            # Backpropagation\n",
    "            optimizer.zero_grad()\n",
    "            train_loss.backward()\n",
    "            optimizer.step()\n",
    "        \n",
    "            pred = model(torch.tensor(x_test, dtype=torch.float))\n",
    "            test_loss = loss_fn(pred, torch.tensor(y_test, dtype=torch.float))\n",
    "            \n",
    "            if early_stopper.early_stop(test_loss): \n",
    "                break\n",
    "        \n",
    "        loss_.append(test_loss.item())\n",
    "        \n",
    "    return loss_"
   ]
  },
  {
   "cell_type": "code",
   "execution_count": 7,
   "metadata": {},
   "outputs": [],
   "source": [
    "# generate training data\n",
    "X = np.zeros((10*10, 2))\n",
    "no_data = 0\n",
    "for i in np.arange(-1.0, 1.001, 2.0/9.0):\n",
    "    for j in np.arange(-1.0, 1.001, 2.0/9.0):\n",
    "        X[no_data] = [i, j]\n",
    "        no_data += 1\n",
    "Y = np.zeros((no_data, 1))\n",
    "Y[:,0] = np.sin(np.pi*X[:,0])*np.cos(2*np.pi*X[:,1])"
   ]
  },
  {
   "cell_type": "code",
   "execution_count": 8,
   "metadata": {},
   "outputs": [
    {
     "name": "stdout",
     "output_type": "stream",
     "text": [
      "hidden units: [2, 4, 6, 8, 10]\n",
      "exp: 0, errors: [0.31180769 0.31221333 0.30825767 0.30583131 0.32371908]\n",
      "exp: 1, errors: [0.18281141 0.18256514 0.18550874 0.18528558 0.17370273]\n",
      "exp: 2, errors: [0.24535613 0.23845761 0.2406922  0.2469285  0.24165829]\n",
      "exp: 3, errors: [0.22513752 0.21813853 0.22147274 0.21525638 0.21561466]\n",
      "exp: 4, errors: [0.24940346 0.24727154 0.24623972 0.25435033 0.25516379]\n",
      "exp: 5, errors: [0.25583172 0.25079072 0.24044172 0.24900703 0.2754139 ]\n",
      "exp: 6, errors: [0.22024319 0.2223404  0.22123598 0.22461759 0.23194946]\n",
      "exp: 7, errors: [0.21609326 0.2305754  0.23943792 0.24411394 0.23677668]\n",
      "exp: 8, errors: [0.23604523 0.23236626 0.23800306 0.25308883 0.24641295]\n",
      "exp: 9, errors: [0.24079554 0.24114349 0.2532728  0.23831908 0.25188628]\n"
     ]
    }
   ],
   "source": [
    "idx = np.arange(no_data)\n",
    "\n",
    "# perform experiments\n",
    "err = []\n",
    "print('hidden units: {}'.format(hidden_units))\n",
    "for exp in range(no_exps):\n",
    " \n",
    "    np.random.shuffle(idx)\n",
    "    err.append(train_exp(X[idx], Y[idx]))\n",
    "    print('exp: {}, errors: {}'.format(exp, np.array(err[exp])))"
   ]
  },
  {
   "cell_type": "code",
   "execution_count": 9,
   "metadata": {},
   "outputs": [
    {
     "name": "stdout",
     "output_type": "stream",
     "text": [
      "mean errors: [0.23835251 0.23758624 0.23945626 0.24167986 0.24522978]\n",
      " *hidden units* 4 \n"
     ]
    }
   ],
   "source": [
    "# print the mean errors of different models\n",
    "mean_err = np.mean(np.array(err), axis = 0)\n",
    "print('mean errors: {}'.format(mean_err))\n",
    "print(' *hidden units* %d '%hidden_units[np.argmin(mean_err)])"
   ]
  },
  {
   "cell_type": "code",
   "execution_count": 10,
   "metadata": {},
   "outputs": [
    {
     "data": {
      "text/plain": [
       "Text(0, 0.5, 'mean error')"
      ]
     },
     "execution_count": 10,
     "metadata": {},
     "output_type": "execute_result"
    },
    {
     "data": {
      "image/png": "[encoded data removed]",
      "text/plain": [
       "<Figure size 640x480 with 1 Axes>"
      ]
     },
     "metadata": {},
     "output_type": "display_data"
    }
   ],
   "source": [
    "plt.figure(1)\n",
    "plt.plot(hidden_units, mean_err, marker = 'x', linestyle = 'None')\n",
    "plt.xticks(hidden_units)\n",
    "plt.xlabel('number of hidden units')\n",
    "plt.ylabel('mean error')"
   ]
  },
  {
   "cell_type": "code",
   "execution_count": null,
   "metadata": {},
   "outputs": [],
   "source": []
  }
 ],
 "metadata": {
  "kernelspec": {
   "display_name": "Python 3 (ipykernel)",
   "language": "python",
   "name": "python3"
  },
  "language_info": {
   "codemirror_mode": {
    "name": "ipython",
    "version": 3
   },
   "file_extension": ".py",
   "mimetype": "text/x-python",
   "name": "python",
   "nbconvert_exporter": "python",
   "pygments_lexer": "ipython3",
   "version": "3.12.3"
  }
 },
 "nbformat": 4,
 "nbformat_minor": 4
}
